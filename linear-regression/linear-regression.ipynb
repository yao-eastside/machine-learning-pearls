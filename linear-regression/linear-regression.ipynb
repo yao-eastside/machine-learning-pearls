{
 "cells": [
  {
   "cell_type": "code",
   "execution_count": 2,
   "metadata": {},
   "outputs": [],
   "source": [
    "import numpy as np"
   ]
  },
  {
   "cell_type": "code",
   "execution_count": 3,
   "metadata": {},
   "outputs": [],
   "source": [
    "x1 = np.arange(0, 100, 1.0)"
   ]
  },
  {
   "cell_type": "code",
   "execution_count": 4,
   "metadata": {},
   "outputs": [
    {
     "data": {
      "text/plain": [
       "array([ 0.,  1.,  2.,  3.,  4.,  5.,  6.,  7.,  8.,  9., 10., 11., 12.,\n",
       "       13., 14., 15., 16., 17., 18., 19., 20., 21., 22., 23., 24., 25.,\n",
       "       26., 27., 28., 29., 30., 31., 32., 33., 34., 35., 36., 37., 38.,\n",
       "       39., 40., 41., 42., 43., 44., 45., 46., 47., 48., 49., 50., 51.,\n",
       "       52., 53., 54., 55., 56., 57., 58., 59., 60., 61., 62., 63., 64.,\n",
       "       65., 66., 67., 68., 69., 70., 71., 72., 73., 74., 75., 76., 77.,\n",
       "       78., 79., 80., 81., 82., 83., 84., 85., 86., 87., 88., 89., 90.,\n",
       "       91., 92., 93., 94., 95., 96., 97., 98., 99.])"
      ]
     },
     "execution_count": 4,
     "metadata": {},
     "output_type": "execute_result"
    }
   ],
   "source": [
    "x1"
   ]
  },
  {
   "cell_type": "code",
   "execution_count": 7,
   "metadata": {},
   "outputs": [
    {
     "data": {
      "text/plain": [
       "array([  7.94092188,  21.04220076,  -3.52807879,  -1.25640538,\n",
       "        18.87041011,  17.15900409,   1.29763073,  21.98651143,\n",
       "         7.98983766, -20.732731  ,   2.94565791,  -1.50154154,\n",
       "         3.99667279,  -4.58214686, -16.53007962,   4.5085192 ,\n",
       "        -2.40478295,   9.70283463,  14.30209203,   3.81726856,\n",
       "        -5.76772223,   3.21479222,  -5.84514896,  10.60385367,\n",
       "        -7.11382478,   8.06813397,   4.32805828, -13.6268062 ,\n",
       "        19.76629461,  -0.57296058,   5.19767486, -10.04651049,\n",
       "        10.35970915,  10.72476625,  -2.47267133,   5.32888422,\n",
       "        -2.77358792,  -3.21484492,   7.71733213, -16.66465335,\n",
       "        -9.06100147,  -2.79593425,   7.05109963,  10.09684049,\n",
       "        -3.11320509, -11.2940983 ,  -2.22812621,   2.9848835 ,\n",
       "         1.62279017,  10.53964623,   5.5027709 ,  -0.5613774 ,\n",
       "         4.69358874, -13.72611522,   1.32973406,   4.08259692,\n",
       "        -8.74839232,  -8.56935307,  -5.51472351,  -1.54230733,\n",
       "        -3.54274262,  -6.5421512 ,   3.68087325,   0.97193738,\n",
       "       -14.13773604,  -7.00570392,  -7.4057872 ,   4.12528955,\n",
       "       -18.35099641,  19.45869797,   1.69960787,   9.31814335,\n",
       "        -3.21620372,  20.14079046, -12.59619642, -17.80161346,\n",
       "        -9.92396632,  13.28331136,  -7.34443999,   7.53753006,\n",
       "        -3.37781926,   1.2331023 ,  -2.96445882,  13.50607298,\n",
       "        -6.93691019, -15.23070871,   0.6388455 ,   1.81503619,\n",
       "        -4.52760045,  -7.54141697,   8.27103511,   5.88003479,\n",
       "         4.0293714 ,   4.49182259,  -5.74150065,   2.88558565,\n",
       "        17.16056638,   2.10396013,   9.51565518,  15.53809003])"
      ]
     },
     "execution_count": 7,
     "metadata": {},
     "output_type": "execute_result"
    }
   ],
   "source": [
    "eps = np.random.randn(len(x1))/0.1\n",
    "eps"
   ]
  },
  {
   "cell_type": "code",
   "execution_count": 8,
   "metadata": {},
   "outputs": [],
   "source": [
    "a1 = 3.2\n",
    "a0 = 0.4"
   ]
  },
  {
   "cell_type": "code",
   "execution_count": 42,
   "metadata": {},
   "outputs": [
    {
     "data": {
      "text/plain": [
       "9249.69906753075"
      ]
     },
     "execution_count": 42,
     "metadata": {},
     "output_type": "execute_result"
    }
   ],
   "source": [
    "np.dot(eps, eps)"
   ]
  },
  {
   "cell_type": "code",
   "execution_count": 9,
   "metadata": {},
   "outputs": [],
   "source": [
    "y = a1 * x1 + a0 + eps"
   ]
  },
  {
   "cell_type": "code",
   "execution_count": 10,
   "metadata": {},
   "outputs": [
    {
     "data": {
      "text/plain": [
       "array([  8.34092188,  24.64220076,   3.27192121,   8.74359462,\n",
       "        32.07041011,  33.55900409,  20.89763073,  44.78651143,\n",
       "        33.98983766,   8.467269  ,  35.34565791,  34.09845846,\n",
       "        42.79667279,  37.41785314,  28.66992038,  52.9085192 ,\n",
       "        49.19521705,  64.50283463,  72.30209203,  65.01726856,\n",
       "        58.63227777,  70.81479222,  64.95485104,  84.60385367,\n",
       "        70.08617522,  88.46813397,  87.92805828,  73.1731938 ,\n",
       "       109.76629461,  92.62703942, 101.59767486,  89.55348951,\n",
       "       113.15970915, 116.72476625, 106.72732867, 117.72888422,\n",
       "       112.82641208, 115.58515508, 129.71733213, 108.53534665,\n",
       "       119.33899853, 128.80406575, 141.85109963, 148.09684049,\n",
       "       138.08679491, 133.1059017 , 145.37187379, 153.7848835 ,\n",
       "       155.62279017, 167.73964623, 165.9027709 , 163.0386226 ,\n",
       "       171.49358874, 156.27388478, 174.52973406, 180.48259692,\n",
       "       170.85160768, 174.23064693, 180.48527649, 187.65769267,\n",
       "       188.85725738, 189.0578488 , 202.48087325, 202.97193738,\n",
       "       191.06226396, 201.39429608, 204.1942128 , 218.92528955,\n",
       "       199.64900359, 240.65869797, 226.09960787, 236.91814335,\n",
       "       227.58379628, 254.14079046, 224.60380358, 222.59838654,\n",
       "       233.67603368, 260.08331136, 242.65556001, 260.73753006,\n",
       "       253.02218074, 260.8331023 , 259.83554118, 279.50607298,\n",
       "       262.26308981, 257.16929129, 276.2388455 , 280.61503619,\n",
       "       277.47239955, 277.65858303, 296.67103511, 297.48003479,\n",
       "       298.8293714 , 302.49182259, 295.45849935, 307.28558565,\n",
       "       324.76056638, 312.90396013, 323.51565518, 332.73809003])"
      ]
     },
     "execution_count": 10,
     "metadata": {},
     "output_type": "execute_result"
    }
   ],
   "source": [
    "y"
   ]
  },
  {
   "cell_type": "code",
   "execution_count": 12,
   "metadata": {},
   "outputs": [],
   "source": [
    "import matplotlib.pyplot as plt"
   ]
  },
  {
   "cell_type": "code",
   "execution_count": 16,
   "metadata": {},
   "outputs": [
    {
     "data": {
      "text/plain": [
       "[<matplotlib.lines.Line2D at 0x7f8e00d89050>]"
      ]
     },
     "execution_count": 16,
     "metadata": {},
     "output_type": "execute_result"
    },
    {
     "data": {
      "image/png": "[encoded data removed]",
      "text/plain": [
       "<Figure size 432x288 with 1 Axes>"
      ]
     },
     "metadata": {
      "needs_background": "light"
     },
     "output_type": "display_data"
    }
   ],
   "source": [
    "plt.scatter(x1, y)\n",
    "plt.plot(x1, a1*x1 + a0, color='red')"
   ]
  },
  {
   "cell_type": "code",
   "execution_count": 14,
   "metadata": {},
   "outputs": [
    {
     "data": {
      "text/plain": [
       "(0.4, 3.2)"
      ]
     },
     "execution_count": 14,
     "metadata": {},
     "output_type": "execute_result"
    }
   ],
   "source": [
    "a0, a1"
   ]
  },
  {
   "cell_type": "markdown",
   "metadata": {},
   "source": [
    "# use scikit learn"
   ]
  },
  {
   "cell_type": "code",
   "execution_count": 17,
   "metadata": {},
   "outputs": [],
   "source": [
    "from sklearn.linear_model import LinearRegression"
   ]
  },
  {
   "cell_type": "code",
   "execution_count": 18,
   "metadata": {},
   "outputs": [],
   "source": [
    "lr = LinearRegression()"
   ]
  },
  {
   "cell_type": "code",
   "execution_count": 22,
   "metadata": {},
   "outputs": [
    {
     "data": {
      "text/plain": [
       "LinearRegression()"
      ]
     },
     "execution_count": 22,
     "metadata": {},
     "output_type": "execute_result"
    }
   ],
   "source": [
    "lr.fit(x1.reshape(len(x1), -1), y)"
   ]
  },
  {
   "cell_type": "code",
   "execution_count": 23,
   "metadata": {},
   "outputs": [
    {
     "data": {
      "text/plain": [
       "(array([3.1692409]), 2.8833884416966953)"
      ]
     },
     "execution_count": 23,
     "metadata": {},
     "output_type": "execute_result"
    }
   ],
   "source": [
    "lr.coef_, lr.intercept_"
   ]
  },
  {
   "cell_type": "code",
   "execution_count": 24,
   "metadata": {},
   "outputs": [
    {
     "data": {
      "text/plain": [
       "(3.2, 0.4)"
      ]
     },
     "execution_count": 24,
     "metadata": {},
     "output_type": "execute_result"
    }
   ],
   "source": [
    "a1, a0"
   ]
  },
  {
   "cell_type": "code",
   "execution_count": 25,
   "metadata": {},
   "outputs": [
    {
     "data": {
      "text/plain": [
       "[<matplotlib.lines.Line2D at 0x7f8e1148ee90>]"
      ]
     },
     "execution_count": 25,
     "metadata": {},
     "output_type": "execute_result"
    },
    {
     "data": {
      "image/png": "[encoded data removed]",
      "text/plain": [
       "<Figure size 432x288 with 1 Axes>"
      ]
     },
     "metadata": {
      "needs_background": "light"
     },
     "output_type": "display_data"
    }
   ],
   "source": [
    "plt.scatter(x1, y)\n",
    "plt.plot(x1, a1*x1 + a0, color='red')\n",
    "plt.plot(x1, lr.coef_*x1 + lr.intercept_, color='green')"
   ]
  },
  {
   "cell_type": "markdown",
   "metadata": {},
   "source": [
    "# recover without scikit learn"
   ]
  },
  {
   "cell_type": "code",
   "execution_count": 61,
   "metadata": {},
   "outputs": [
    {
     "data": {
      "text/plain": [
       "2.9640703311332386"
      ]
     },
     "execution_count": 61,
     "metadata": {},
     "output_type": "execute_result"
    }
   ],
   "source": [
    "b0 = np.random.randn()\n",
    "b0"
   ]
  },
  {
   "cell_type": "code",
   "execution_count": 62,
   "metadata": {},
   "outputs": [
    {
     "data": {
      "text/plain": [
       "-1.400194756947331"
      ]
     },
     "execution_count": 62,
     "metadata": {},
     "output_type": "execute_result"
    }
   ],
   "source": [
    "b1 = np.random.randn()\n",
    "b1"
   ]
  },
  {
   "cell_type": "code",
   "execution_count": 63,
   "metadata": {},
   "outputs": [
    {
     "data": {
      "text/plain": [
       "array([  -5.37685155,  -23.07832519,   -3.10824039,   -9.98010856,\n",
       "        -34.70711881,  -37.59590754,  -26.33472894,  -51.6238044 ,\n",
       "        -42.22732538,  -18.10495148,  -46.38353514,  -46.53653046,\n",
       "        -56.63493954,  -52.65631465,  -45.30857665,  -70.94737023,\n",
       "        -68.63426283,  -85.34207517,  -94.54152732,  -88.65689861,\n",
       "        -83.67210258,  -97.25481179,  -92.79506537, -113.84426275,\n",
       "       -100.72677905, -120.50893256, -121.36905163, -108.01438191,\n",
       "       -146.00767747, -130.26861704, -140.63944724, -129.99545665,\n",
       "       -155.00187104, -159.9671229 , -151.36988008, -163.77163038,\n",
       "       -160.269353  , -164.42829076, -179.96066257, -160.17887184,\n",
       "       -172.38271848, -183.24798045, -197.69520909, -205.34114471,\n",
       "       -196.73129389, -193.15059543, -206.81676228, -216.62996675,\n",
       "       -219.86806817, -233.38511899, -232.94843841, -231.48448487,\n",
       "       -241.33964577, -227.52013657, -247.1761806 , -254.52923822,\n",
       "       -246.29844373, -251.07767775, -258.73250206, -267.305113  ,\n",
       "       -269.90487247, -271.50565865, -286.32887785, -288.22013673,\n",
       "       -277.71065808, -289.44288495, -293.64299643, -309.77426793,\n",
       "       -291.89817673, -334.30806587, -321.14917053, -333.36790076,\n",
       "       -325.43374845, -353.39093738, -325.25414526, -324.64892298,\n",
       "       -337.12676488, -364.93423732, -348.90668072, -368.38884553,\n",
       "       -362.07369096, -371.28480729, -371.68744092, -392.75816748,\n",
       "       -376.91537906, -373.2217753 , -393.69152427, -399.46790971,\n",
       "       -397.72546783, -399.31184607, -419.72449291, -421.93368734,\n",
       "       -424.68321871, -429.74586466, -424.11273618, -437.34001723,\n",
       "       -456.21519272, -445.75878123, -457.77067103, -468.39330064])"
      ]
     },
     "execution_count": 63,
     "metadata": {},
     "output_type": "execute_result"
    }
   ],
   "source": [
    "t_b = b1 * x1 + b0 - y\n",
    "t_b"
   ]
  },
  {
   "cell_type": "code",
   "execution_count": 64,
   "metadata": {},
   "outputs": [
    {
     "data": {
      "text/plain": [
       "array([ -7.94092188, -21.04220076,   3.52807879,   1.25640538,\n",
       "       -18.87041011, -17.15900409,  -1.29763073, -21.98651143,\n",
       "        -7.98983766,  20.732731  ,  -2.94565791,   1.50154154,\n",
       "        -3.99667279,   4.58214686,  16.53007962,  -4.5085192 ,\n",
       "         2.40478295,  -9.70283463, -14.30209203,  -3.81726856,\n",
       "         5.76772223,  -3.21479222,   5.84514896, -10.60385367,\n",
       "         7.11382478,  -8.06813397,  -4.32805828,  13.6268062 ,\n",
       "       -19.76629461,   0.57296058,  -5.19767486,  10.04651049,\n",
       "       -10.35970915, -10.72476625,   2.47267133,  -5.32888422,\n",
       "         2.77358792,   3.21484492,  -7.71733213,  16.66465335,\n",
       "         9.06100147,   2.79593425,  -7.05109963, -10.09684049,\n",
       "         3.11320509,  11.2940983 ,   2.22812621,  -2.9848835 ,\n",
       "        -1.62279017, -10.53964623,  -5.5027709 ,   0.5613774 ,\n",
       "        -4.69358874,  13.72611522,  -1.32973406,  -4.08259692,\n",
       "         8.74839232,   8.56935307,   5.51472351,   1.54230733,\n",
       "         3.54274262,   6.5421512 ,  -3.68087325,  -0.97193738,\n",
       "        14.13773604,   7.00570392,   7.4057872 ,  -4.12528955,\n",
       "        18.35099641, -19.45869797,  -1.69960787,  -9.31814335,\n",
       "         3.21620372, -20.14079046,  12.59619642,  17.80161346,\n",
       "         9.92396632, -13.28331136,   7.34443999,  -7.53753006,\n",
       "         3.37781926,  -1.2331023 ,   2.96445882, -13.50607298,\n",
       "         6.93691019,  15.23070871,  -0.6388455 ,  -1.81503619,\n",
       "         4.52760045,   7.54141697,  -8.27103511,  -5.88003479,\n",
       "        -4.0293714 ,  -4.49182259,   5.74150065,  -2.88558565,\n",
       "       -17.16056638,  -2.10396013,  -9.51565518, -15.53809003])"
      ]
     },
     "execution_count": 64,
     "metadata": {},
     "output_type": "execute_result"
    }
   ],
   "source": [
    "t_a = a1 * x1 + a0 - y\n",
    "t_a"
   ]
  },
  {
   "cell_type": "code",
   "execution_count": 65,
   "metadata": {},
   "outputs": [
    {
     "data": {
      "text/plain": [
       "9249.699067530748"
      ]
     },
     "execution_count": 65,
     "metadata": {},
     "output_type": "execute_result"
    }
   ],
   "source": [
    "loss_a = np.dot(t_a, t_a)\n",
    "loss_a"
   ]
  },
  {
   "cell_type": "code",
   "execution_count": 66,
   "metadata": {},
   "outputs": [
    {
     "data": {
      "text/plain": [
       "6861292.710374395"
      ]
     },
     "execution_count": 66,
     "metadata": {},
     "output_type": "execute_result"
    }
   ],
   "source": [
    "loss_b = np.dot(t_b, t_b)\n",
    "loss_b"
   ]
  },
  {
   "cell_type": "code",
   "execution_count": 67,
   "metadata": {},
   "outputs": [
    {
     "data": {
      "text/plain": [
       "[<matplotlib.lines.Line2D at 0x7f8e0128a250>]"
      ]
     },
     "execution_count": 67,
     "metadata": {},
     "output_type": "execute_result"
    },
    {
     "data": {
      "image/png": "[encoded data removed]",
      "text/plain": [
       "<Figure size 432x288 with 1 Axes>"
      ]
     },
     "metadata": {
      "needs_background": "light"
     },
     "output_type": "display_data"
    }
   ],
   "source": [
    "plt.scatter(x1, y)\n",
    "plt.plot(x1, a1*x1 + a0, color='red')\n",
    "plt.plot(x1, lr.coef_*x1 + lr.intercept_, color='green')\n",
    "plt.plot(x1, b1*x1 + b0, color='orange')"
   ]
  },
  {
   "cell_type": "code",
   "execution_count": null,
   "metadata": {},
   "outputs": [],
   "source": []
  },
  {
   "cell_type": "code",
   "execution_count": 68,
   "metadata": {},
   "outputs": [],
   "source": [
    "def step(b1, b0, alpha):\n",
    "    b1 += alpha * np.sum((y - b1*x1 - b0)*x1)/len(x1)\n",
    "    b0 += alpha * np.sum((y - b1*x1 - b0)*1)/len(x1)\n",
    "\n",
    "    plt.scatter(x1, y)\n",
    "    plt.plot(x1, a1*x1 + a0, color='red')\n",
    "    plt.plot(x1, lr.coef_*x1 + lr.intercept_, color='green')\n",
    "    plt.plot(x1, b1*x1 + b0, color='orange')\n",
    "\n",
    "    t_b = b1 * x1 + b0 - y\n",
    "    loss_b = np.dot(t_b, t_b)\n",
    "    return b1, b0, a1, a0, loss_b"
   ]
  },
  {
   "cell_type": "code",
   "execution_count": 180,
   "metadata": {},
   "outputs": [
    {
     "data": {
      "text/plain": [
       "list"
      ]
     },
     "execution_count": 180,
     "metadata": {},
     "output_type": "execute_result"
    }
   ],
   "source": [
    "type(tmp)"
   ]
  },
  {
   "cell_type": "code",
   "execution_count": 71,
   "metadata": {},
   "outputs": [
    {
     "name": "stdout",
     "output_type": "stream",
     "text": [
      "1.489872584700716 3.006200646418005 3.2 0.4 933076.4695821234\n"
     ]
    },
    {
     "data": {
      "image/png": "[encoded data removed]",
      "text/plain": [
       "<Figure size 432x288 with 1 Axes>"
      ]
     },
     "metadata": {
      "needs_background": "light"
     },
     "output_type": "display_data"
    }
   ],
   "source": [
    "for i in range(10):\n",
    "    b1, b0, *tmp = step(b1, b0, 1.0e-5)\n",
    "print(b1, b0, *tmp)"
   ]
  },
  {
   "cell_type": "code",
   "execution_count": 51,
   "metadata": {},
   "outputs": [
    {
     "ename": "AssertionError",
     "evalue": "",
     "output_type": "error",
     "traceback": [
      "\u001b[0;31m---------------------------------------------------------------------------\u001b[0m",
      "\u001b[0;31mAssertionError\u001b[0m                            Traceback (most recent call last)",
      "\u001b[0;32m<ipython-input-51-a871fdc9ebee>\u001b[0m in \u001b[0;36m<module>\u001b[0;34m\u001b[0m\n\u001b[0;32m----> 1\u001b[0;31m \u001b[0;32massert\u001b[0m \u001b[0;32mFalse\u001b[0m\u001b[0;34m\u001b[0m\u001b[0;34m\u001b[0m\u001b[0m\n\u001b[0m",
      "\u001b[0;31mAssertionError\u001b[0m: "
     ]
    }
   ],
   "source": [
    "assert False"
   ]
  },
  {
   "cell_type": "code",
   "execution_count": 179,
   "metadata": {},
   "outputs": [
    {
     "name": "stdout",
     "output_type": "stream",
     "text": [
      "3.1206471051562517 3.030665606295741 3.2 0.4 9785.215918637965\n"
     ]
    },
    {
     "data": {
      "image/png": "[encoded data removed]",
      "text/plain": [
       "<Figure size 432x288 with 1 Axes>"
      ]
     },
     "metadata": {
      "needs_background": "light"
     },
     "output_type": "display_data"
    }
   ],
   "source": [
    "for i in range(100):\n",
    "    b1, b0, *tmp = step(b1, b0, 1.0e-6)\n",
    "print(b1, b0, *tmp)"
   ]
  },
  {
   "cell_type": "code",
   "execution_count": null,
   "metadata": {},
   "outputs": [],
   "source": []
  },
  {
   "cell_type": "code",
   "execution_count": null,
   "metadata": {},
   "outputs": [],
   "source": []
  }
 ],
 "metadata": {
  "kernelspec": {
   "display_name": "Python 3",
   "language": "python",
   "name": "python3"
  },
  "language_info": {
   "codemirror_mode": {
    "name": "ipython",
    "version": 3
   },
   "file_extension": ".py",
   "mimetype": "text/x-python",
   "name": "python",
   "nbconvert_exporter": "python",
   "pygments_lexer": "ipython3",
   "version": "3.7.8"
  }
 },
 "nbformat": 4,
 "nbformat_minor": 4
}
