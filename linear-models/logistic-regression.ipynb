{
 "cells": [
  {
   "cell_type": "code",
   "execution_count": 50,
   "metadata": {},
   "outputs": [],
   "source": [
    "from sklearn.linear_model import LogisticRegression"
   ]
  },
  {
   "cell_type": "code",
   "execution_count": 51,
   "metadata": {},
   "outputs": [],
   "source": [
    "from sklearn.datasets import make_blobs"
   ]
  },
  {
   "cell_type": "code",
   "execution_count": 52,
   "metadata": {},
   "outputs": [],
   "source": [
    "import numpy as np"
   ]
  },
  {
   "cell_type": "code",
   "execution_count": 53,
   "metadata": {},
   "outputs": [],
   "source": [
    "def make_forge():\n",
    "    # a carefully hand-designed dataset lol\n",
    "    X, y = make_blobs(centers=2, random_state=4, n_samples=30)\n",
    "    y[np.array([7, 27])] = 0\n",
    "    mask = np.ones(len(X), dtype=np.bool)\n",
    "    mask[np.array([0, 1, 5, 26])] = 0\n",
    "    X, y = X[mask], y[mask]\n",
    "    return X, y"
   ]
  },
  {
   "cell_type": "code",
   "execution_count": 54,
   "metadata": {},
   "outputs": [],
   "source": [
    "X, y = make_forge()"
   ]
  },
  {
   "cell_type": "code",
   "execution_count": 55,
   "metadata": {},
   "outputs": [
    {
     "data": {
      "text/plain": [
       "((26, 2), (26,))"
      ]
     },
     "execution_count": 55,
     "metadata": {},
     "output_type": "execute_result"
    }
   ],
   "source": [
    "X.shape, y.shape"
   ]
  },
  {
   "cell_type": "code",
   "execution_count": 56,
   "metadata": {},
   "outputs": [
    {
     "data": {
      "text/plain": [
       "numpy.ndarray"
      ]
     },
     "execution_count": 56,
     "metadata": {},
     "output_type": "execute_result"
    }
   ],
   "source": [
    "type(X)"
   ]
  },
  {
   "cell_type": "code",
   "execution_count": 57,
   "metadata": {},
   "outputs": [],
   "source": [
    "import matplotlib.pyplot as plt"
   ]
  },
  {
   "cell_type": "code",
   "execution_count": 58,
   "metadata": {},
   "outputs": [
    {
     "data": {
      "text/plain": [
       "array([[11.0329545 , -0.16816717],\n",
       "       [ 8.69289001,  1.54322016],\n",
       "       [ 8.1062269 ,  4.28695977],\n",
       "       [ 9.67284681, -0.20283165],\n",
       "       [ 8.68937095,  1.48709629],\n",
       "       [ 8.92229526, -0.63993225],\n",
       "       [ 8.18378052,  1.29564214],\n",
       "       [ 8.7337095 ,  2.49162431],\n",
       "       [10.06393839,  0.99078055],\n",
       "       [ 9.50048972, -0.26430318],\n",
       "       [ 8.34468785,  1.63824349],\n",
       "       [ 9.50169345,  1.93824624],\n",
       "       [11.563957  ,  1.3389402 ]])"
      ]
     },
     "execution_count": 58,
     "metadata": {},
     "output_type": "execute_result"
    }
   ],
   "source": [
    "X[y==0]"
   ]
  },
  {
   "cell_type": "code",
   "execution_count": 59,
   "metadata": {},
   "outputs": [
    {
     "data": {
      "text/plain": [
       "<matplotlib.collections.PathCollection at 0x7fb3a9b57090>"
      ]
     },
     "execution_count": 59,
     "metadata": {},
     "output_type": "execute_result"
    },
    {
     "data": {
      "image/png": "[encoded data removed]",
      "text/plain": [
       "<Figure size 432x288 with 1 Axes>"
      ]
     },
     "metadata": {
      "needs_background": "light"
     },
     "output_type": "display_data"
    }
   ],
   "source": [
    "plt.scatter(X[y==0][:, 0], X[y==0][:, 1], color='red')\n",
    "plt.scatter(X[y==1][:, 0], X[y==1][:, 1], color='green')"
   ]
  },
  {
   "cell_type": "code",
   "execution_count": 60,
   "metadata": {},
   "outputs": [],
   "source": [
    "lr = LogisticRegression()"
   ]
  },
  {
   "cell_type": "code",
   "execution_count": 61,
   "metadata": {},
   "outputs": [
    {
     "data": {
      "text/plain": [
       "LogisticRegression()"
      ]
     },
     "execution_count": 61,
     "metadata": {},
     "output_type": "execute_result"
    }
   ],
   "source": [
    "lr.fit(X, y)"
   ]
  },
  {
   "cell_type": "code",
   "execution_count": 62,
   "metadata": {},
   "outputs": [
    {
     "data": {
      "text/plain": [
       "(array([[0.67289534, 1.53136443]]), array([-11.0975882]))"
      ]
     },
     "execution_count": 62,
     "metadata": {},
     "output_type": "execute_result"
    }
   ],
   "source": [
    "lr.coef_, lr.intercept_"
   ]
  },
  {
   "cell_type": "code",
   "execution_count": 63,
   "metadata": {},
   "outputs": [
    {
     "data": {
      "text/plain": [
       "<matplotlib.contour.QuadContourSet at 0x7fb3c8dd7650>"
      ]
     },
     "execution_count": 63,
     "metadata": {},
     "output_type": "execute_result"
    },
    {
     "data": {
      "image/png": "[encoded data removed]",
      "text/plain": [
       "<Figure size 432x288 with 1 Axes>"
      ]
     },
     "metadata": {
      "needs_background": "light"
     },
     "output_type": "display_data"
    }
   ],
   "source": [
    "plt.scatter(X[y==0][:, 0], X[y==0][:, 1], color='red')\n",
    "plt.scatter(X[y==1][:, 0], X[y==1][:, 1], color='green')\n",
    "\n",
    "eps = X.std() / 2.\n",
    "x_min, x_max = X[:, 0].min() - eps, X[:, 0].max() + eps\n",
    "y_min, y_max = X[:, 1].min() - eps, X[:, 1].max() + eps\n",
    "xx = np.linspace(x_min, x_max, 1000)\n",
    "yy = np.linspace(y_min, y_max, 1000)\n",
    "X1, X2 = np.meshgrid(xx, yy)\n",
    "X_grid = np.c_[X1.ravel(), X2.ravel()]\n",
    "decision_values = lr.predict_proba(X_grid)[:, 1]\n",
    "plt.contour(X1, X2, decision_values.reshape(X1.shape), levels=[0.5])"
   ]
  },
  {
   "cell_type": "code",
   "execution_count": 64,
   "metadata": {},
   "outputs": [
    {
     "data": {
      "text/plain": [
       "array([2.31274913e-05, 2.32452802e-05, 2.33636691e-05, ...,\n",
       "       9.99910290e-01, 9.99910745e-01, 9.99911197e-01])"
      ]
     },
     "execution_count": 64,
     "metadata": {},
     "output_type": "execute_result"
    }
   ],
   "source": [
    "decision_values = lr.predict_proba(X_grid)[:, 1]\n",
    "decision_values"
   ]
  },
  {
   "cell_type": "code",
   "execution_count": 65,
   "metadata": {},
   "outputs": [
    {
     "data": {
      "text/plain": [
       "array([[ 6.19308997, -2.44499515],\n",
       "       [ 6.20063976, -2.44499515],\n",
       "       [ 6.20818956, -2.44499515],\n",
       "       ...,\n",
       "       [13.72023467,  7.30338536],\n",
       "       [13.72778447,  7.30338536],\n",
       "       [13.73533426,  7.30338536]])"
      ]
     },
     "execution_count": 65,
     "metadata": {},
     "output_type": "execute_result"
    }
   ],
   "source": [
    "X_grid"
   ]
  },
  {
   "cell_type": "code",
   "execution_count": 66,
   "metadata": {},
   "outputs": [
    {
     "data": {
      "text/plain": [
       "array([-10.67446542, -10.6693852 , -10.66430498, ...,   9.31883835,\n",
       "         9.32391857,   9.32899879])"
      ]
     },
     "execution_count": 66,
     "metadata": {},
     "output_type": "execute_result"
    }
   ],
   "source": [
    "t = np.dot(X_grid, lr.coef_[0]) + lr.intercept_\n",
    "t"
   ]
  },
  {
   "cell_type": "code",
   "execution_count": 67,
   "metadata": {},
   "outputs": [
    {
     "data": {
      "text/plain": [
       "array([2.31274913e-05, 2.32452802e-05, 2.33636691e-05, ...,\n",
       "       9.99910290e-01, 9.99910745e-01, 9.99911197e-01])"
      ]
     },
     "execution_count": 67,
     "metadata": {},
     "output_type": "execute_result"
    }
   ],
   "source": [
    "1/(1+np.exp(-t))"
   ]
  },
  {
   "cell_type": "markdown",
   "metadata": {},
   "source": [
    "## learning"
   ]
  },
  {
   "cell_type": "code",
   "execution_count": 68,
   "metadata": {},
   "outputs": [],
   "source": [
    "def step(b1, b2, b0, alpha):\n",
    "    b1 += alpha * np.dot((y - np.dot(X, [b1, b2]) - b0),X[:,0])/len(X[:,0])\n",
    "    b2 += alpha * np.dot((y - np.dot(X, [b1, b2]) - b0),X[:,1])/len(X[:,0])\n",
    "    b0 += alpha * np.sum((y - np.dot(X, [b1, b2]) - b0))/len(X[:,0])\n",
    "\n",
    "    plt.scatter(X[y==0][:, 0], X[y==0][:, 1], color='red')\n",
    "    plt.scatter(X[y==1][:, 0], X[y==1][:, 1], color='green')\n",
    "\n",
    "    eps = X.std() / 2.\n",
    "    x_min, x_max = X[:, 0].min() - eps, X[:, 0].max() + eps\n",
    "    y_min, y_max = X[:, 1].min() - eps, X[:, 1].max() + eps\n",
    "    xx = np.linspace(x_min, x_max, 1000)\n",
    "    yy = np.linspace(y_min, y_max, 1000)\n",
    "    X1, X2 = np.meshgrid(xx, yy)\n",
    "    X_grid = np.c_[X1.ravel(), X2.ravel()]\n",
    "    t = np.dot(X_grid, [b1, b2]) + b0\n",
    "\n",
    "    decision_values = 1/(1+np.exp(-t))\n",
    "    plt.contour(X1, X2, decision_values.reshape(X1.shape), levels=[0.5])\n",
    "\n",
    "    t1 = np.dot(X, [b1, b2]) + b0\n",
    "    t2 = 1/(1+np.exp(-t1))\n",
    "    return b1, b2, b0, lr.coef_, lr.intercept_, np.sum(y*np.log(t2) + (1-y)*np.log(1-t2))"
   ]
  },
  {
   "cell_type": "code",
   "execution_count": 69,
   "metadata": {},
   "outputs": [],
   "source": [
    "# alpha = 1.0e-3\n",
    "alpha = 1.0e-5"
   ]
  },
  {
   "cell_type": "code",
   "execution_count": 70,
   "metadata": {},
   "outputs": [
    {
     "data": {
      "text/plain": [
       "(-1.0325889860496102, 0.7998671330442624, -0.4748106210575244)"
      ]
     },
     "execution_count": 70,
     "metadata": {},
     "output_type": "execute_result"
    }
   ],
   "source": [
    "b1, b2, b0 = np.random.randn(3)\n",
    "b1, b2, b0"
   ]
  },
  {
   "cell_type": "code",
   "execution_count": 74,
   "metadata": {},
   "outputs": [
    {
     "name": "stdout",
     "output_type": "stream",
     "text": [
      "-0.24104269865956726 0.9290513555261812 -0.40096376359928354 [[0.67289534 1.53136443]] [-11.0975882] -7.264163031896599\n"
     ]
    },
    {
     "data": {
      "image/png": "[encoded data removed]",
      "text/plain": [
       "<Figure size 432x288 with 1 Axes>"
      ]
     },
     "metadata": {
      "needs_background": "light"
     },
     "output_type": "display_data"
    }
   ],
   "source": [
    "for i in range(10):\n",
    "    b1, b2, b0, *tmp = step(b1, b2, b0, 1.0e-3)\n",
    "print(b1, b2, b0, *tmp)"
   ]
  },
  {
   "cell_type": "code",
   "execution_count": 75,
   "metadata": {},
   "outputs": [
    {
     "name": "stdout",
     "output_type": "stream",
     "text": [
      "-0.24060381006921697 0.9288685715885562 -0.4009226678191319 [[0.67289534 1.53136443]] [-11.0975882] -7.266371822517053\n"
     ]
    },
    {
     "data": {
      "image/png": "[encoded data removed]",
      "text/plain": [
       "<Figure size 432x288 with 1 Axes>"
      ]
     },
     "metadata": {
      "needs_background": "light"
     },
     "output_type": "display_data"
    }
   ],
   "source": [
    "for i in range(10):\n",
    "    b1, b2, b0, *tmp = step(b1, b2, b0, 1.0e-5)\n",
    "print(b1, b2, b0, *tmp)"
   ]
  },
  {
   "cell_type": "code",
   "execution_count": null,
   "metadata": {},
   "outputs": [],
   "source": []
  }
 ],
 "metadata": {
  "kernelspec": {
   "display_name": "Python 3",
   "language": "python",
   "name": "python3"
  },
  "language_info": {
   "codemirror_mode": {
    "name": "ipython",
    "version": 3
   },
   "file_extension": ".py",
   "mimetype": "text/x-python",
   "name": "python",
   "nbconvert_exporter": "python",
   "pygments_lexer": "ipython3",
   "version": "3.7.8"
  }
 },
 "nbformat": 4,
 "nbformat_minor": 4
}
