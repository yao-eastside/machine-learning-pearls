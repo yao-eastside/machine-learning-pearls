{
 "cells": [
  {
   "cell_type": "code",
   "execution_count": 79,
   "metadata": {},
   "outputs": [],
   "source": [
    "from sklearn.linear_model import LogisticRegression"
   ]
  },
  {
   "cell_type": "code",
   "execution_count": 80,
   "metadata": {},
   "outputs": [],
   "source": [
    "from sklearn.datasets import make_blobs"
   ]
  },
  {
   "cell_type": "code",
   "execution_count": 81,
   "metadata": {},
   "outputs": [],
   "source": [
    "import numpy as np"
   ]
  },
  {
   "cell_type": "code",
   "execution_count": 82,
   "metadata": {},
   "outputs": [],
   "source": [
    "def make_forge():\n",
    "    # a carefully hand-designed dataset lol\n",
    "    X, y = make_blobs(centers=2, random_state=4, n_samples=30)\n",
    "    y[np.array([7, 27])] = 0\n",
    "    mask = np.ones(len(X), dtype=np.bool)\n",
    "    mask[np.array([0, 1, 5, 26])] = 0\n",
    "    X, y = X[mask], y[mask]\n",
    "    return X, y"
   ]
  },
  {
   "cell_type": "code",
   "execution_count": 83,
   "metadata": {},
   "outputs": [],
   "source": [
    "X, y = make_forge()"
   ]
  },
  {
   "cell_type": "code",
   "execution_count": 84,
   "metadata": {},
   "outputs": [
    {
     "data": {
      "text/plain": [
       "((26, 2), (26,))"
      ]
     },
     "execution_count": 84,
     "metadata": {},
     "output_type": "execute_result"
    }
   ],
   "source": [
    "X.shape, y.shape"
   ]
  },
  {
   "cell_type": "code",
   "execution_count": 85,
   "metadata": {},
   "outputs": [
    {
     "data": {
      "text/plain": [
       "numpy.ndarray"
      ]
     },
     "execution_count": 85,
     "metadata": {},
     "output_type": "execute_result"
    }
   ],
   "source": [
    "type(X)"
   ]
  },
  {
   "cell_type": "code",
   "execution_count": 86,
   "metadata": {},
   "outputs": [],
   "source": [
    "import matplotlib.pyplot as plt"
   ]
  },
  {
   "cell_type": "code",
   "execution_count": 87,
   "metadata": {},
   "outputs": [
    {
     "data": {
      "text/plain": [
       "array([[11.0329545 , -0.16816717],\n",
       "       [ 8.69289001,  1.54322016],\n",
       "       [ 8.1062269 ,  4.28695977],\n",
       "       [ 9.67284681, -0.20283165],\n",
       "       [ 8.68937095,  1.48709629],\n",
       "       [ 8.92229526, -0.63993225],\n",
       "       [ 8.18378052,  1.29564214],\n",
       "       [ 8.7337095 ,  2.49162431],\n",
       "       [10.06393839,  0.99078055],\n",
       "       [ 9.50048972, -0.26430318],\n",
       "       [ 8.34468785,  1.63824349],\n",
       "       [ 9.50169345,  1.93824624],\n",
       "       [11.563957  ,  1.3389402 ]])"
      ]
     },
     "execution_count": 87,
     "metadata": {},
     "output_type": "execute_result"
    }
   ],
   "source": [
    "X[y==0]"
   ]
  },
  {
   "cell_type": "code",
   "execution_count": 88,
   "metadata": {},
   "outputs": [
    {
     "data": {
      "text/plain": [
       "<matplotlib.collections.PathCollection at 0x7fd45bc20ad0>"
      ]
     },
     "execution_count": 88,
     "metadata": {},
     "output_type": "execute_result"
    },
    {
     "data": {
      "image/png": "[encoded data removed]",
      "text/plain": [
       "<Figure size 432x288 with 1 Axes>"
      ]
     },
     "metadata": {
      "needs_background": "light"
     },
     "output_type": "display_data"
    }
   ],
   "source": [
    "plt.scatter(X[y==0][:, 0], X[y==0][:, 1], color='red')\n",
    "plt.scatter(X[y==1][:, 0], X[y==1][:, 1], color='green')"
   ]
  },
  {
   "cell_type": "code",
   "execution_count": 89,
   "metadata": {},
   "outputs": [],
   "source": [
    "lr = LogisticRegression()"
   ]
  },
  {
   "cell_type": "code",
   "execution_count": 90,
   "metadata": {},
   "outputs": [
    {
     "data": {
      "text/plain": [
       "LogisticRegression()"
      ]
     },
     "execution_count": 90,
     "metadata": {},
     "output_type": "execute_result"
    }
   ],
   "source": [
    "lr.fit(X, y)"
   ]
  },
  {
   "cell_type": "code",
   "execution_count": 91,
   "metadata": {},
   "outputs": [
    {
     "data": {
      "text/plain": [
       "(array([[0.67289534, 1.53136443]]), array([-11.0975882]))"
      ]
     },
     "execution_count": 91,
     "metadata": {},
     "output_type": "execute_result"
    }
   ],
   "source": [
    "lr.coef_, lr.intercept_"
   ]
  },
  {
   "cell_type": "code",
   "execution_count": 92,
   "metadata": {},
   "outputs": [
    {
     "data": {
      "text/plain": [
       "<matplotlib.contour.QuadContourSet at 0x7fd461fa9d10>"
      ]
     },
     "execution_count": 92,
     "metadata": {},
     "output_type": "execute_result"
    },
    {
     "data": {
      "image/png": "[encoded data removed]",
      "text/plain": [
       "<Figure size 432x288 with 1 Axes>"
      ]
     },
     "metadata": {
      "needs_background": "light"
     },
     "output_type": "display_data"
    }
   ],
   "source": [
    "plt.scatter(X[y==0][:, 0], X[y==0][:, 1], color='red')\n",
    "plt.scatter(X[y==1][:, 0], X[y==1][:, 1], color='green')\n",
    "\n",
    "eps = X.std() / 2.\n",
    "x_min, x_max = X[:, 0].min() - eps, X[:, 0].max() + eps\n",
    "y_min, y_max = X[:, 1].min() - eps, X[:, 1].max() + eps\n",
    "xx = np.linspace(x_min, x_max, 1000)\n",
    "yy = np.linspace(y_min, y_max, 1000)\n",
    "X1, X2 = np.meshgrid(xx, yy)\n",
    "X_grid = np.c_[X1.ravel(), X2.ravel()]\n",
    "decision_values = lr.predict_proba(X_grid)[:, 1]\n",
    "plt.contour(X1, X2, decision_values.reshape(X1.shape), levels=[0.5])"
   ]
  },
  {
   "cell_type": "code",
   "execution_count": 93,
   "metadata": {},
   "outputs": [
    {
     "data": {
      "text/plain": [
       "array([2.31274913e-05, 2.32452802e-05, 2.33636691e-05, ...,\n",
       "       9.99910290e-01, 9.99910745e-01, 9.99911197e-01])"
      ]
     },
     "execution_count": 93,
     "metadata": {},
     "output_type": "execute_result"
    }
   ],
   "source": [
    "decision_values = lr.predict_proba(X_grid)[:, 1]\n",
    "decision_values"
   ]
  },
  {
   "cell_type": "code",
   "execution_count": 94,
   "metadata": {},
   "outputs": [
    {
     "data": {
      "text/plain": [
       "array([[ 6.19308997, -2.44499515],\n",
       "       [ 6.20063976, -2.44499515],\n",
       "       [ 6.20818956, -2.44499515],\n",
       "       ...,\n",
       "       [13.72023467,  7.30338536],\n",
       "       [13.72778447,  7.30338536],\n",
       "       [13.73533426,  7.30338536]])"
      ]
     },
     "execution_count": 94,
     "metadata": {},
     "output_type": "execute_result"
    }
   ],
   "source": [
    "X_grid"
   ]
  },
  {
   "cell_type": "code",
   "execution_count": 95,
   "metadata": {},
   "outputs": [
    {
     "data": {
      "text/plain": [
       "array([ 2.64610474, -3.93108975,  4.64885878, -2.88495056,  0.92195182,\n",
       "        1.85420159,  4.04903339, -4.89938382,  2.38207574,  1.59371802,\n",
       "        2.87687934, -0.44676551, -2.97326461, -6.07378678,  1.92326977,\n",
       "        2.99162662,  1.7152853 , -3.60666014, -1.40513093,  2.98332167,\n",
       "       -2.80836485, -5.10949742, -2.97373882, -1.7357816 ,  3.47982627,\n",
       "       -1.26585002])"
      ]
     },
     "execution_count": 95,
     "metadata": {},
     "output_type": "execute_result"
    }
   ],
   "source": [
    "t = np.dot(X, lr.coef_[0]) + lr.intercept_\n",
    "t"
   ]
  },
  {
   "cell_type": "code",
   "execution_count": 96,
   "metadata": {},
   "outputs": [
    {
     "data": {
      "text/plain": [
       "array([0.9337705 , 0.01924465, 0.99051824, 0.05290254, 0.71543964,\n",
       "       0.86461966, 0.98285969, 0.00739606, 0.91545024, 0.83113856,\n",
       "       0.94669159, 0.39013007, 0.04864841, 0.00229715, 0.87250261,\n",
       "       0.95219441, 0.84752056, 0.02642511, 0.19700317, 0.95181494,\n",
       "       0.05687383, 0.00600287, 0.04862647, 0.14984954, 0.97010828,\n",
       "       0.21996849])"
      ]
     },
     "execution_count": 96,
     "metadata": {},
     "output_type": "execute_result"
    }
   ],
   "source": [
    "t2 = 1/(1+np.exp(-t))\n",
    "t2"
   ]
  },
  {
   "cell_type": "code",
   "execution_count": 97,
   "metadata": {},
   "outputs": [
    {
     "data": {
      "text/plain": [
       "(26, 26)"
      ]
     },
     "execution_count": 97,
     "metadata": {},
     "output_type": "execute_result"
    }
   ],
   "source": [
    "len(t2), len(y)"
   ]
  },
  {
   "cell_type": "code",
   "execution_count": 98,
   "metadata": {},
   "outputs": [
    {
     "data": {
      "text/plain": [
       "-4.102272097508186"
      ]
     },
     "execution_count": 98,
     "metadata": {},
     "output_type": "execute_result"
    }
   ],
   "source": [
    "np.sum(y*np.log(t2) + (1-y)*np.log(1-t2))"
   ]
  },
  {
   "cell_type": "markdown",
   "metadata": {},
   "source": [
    "## learning"
   ]
  },
  {
   "cell_type": "code",
   "execution_count": 99,
   "metadata": {},
   "outputs": [],
   "source": [
    "def step(b1, b2, b0, alpha):\n",
    "    b1 += alpha * np.dot((y - np.dot(X, [b1, b2]) - b0),X[:,0])/len(X[:,0])\n",
    "    b2 += alpha * np.dot((y - np.dot(X, [b1, b2]) - b0),X[:,1])/len(X[:,0])\n",
    "    b0 += alpha * np.sum((y - np.dot(X, [b1, b2]) - b0))/len(X[:,0])\n",
    "\n",
    "    plt.scatter(X[y==0][:, 0], X[y==0][:, 1], color='red')\n",
    "    plt.scatter(X[y==1][:, 0], X[y==1][:, 1], color='green')\n",
    "\n",
    "    eps = X.std() / 2.\n",
    "    x_min, x_max = X[:, 0].min() - eps, X[:, 0].max() + eps\n",
    "    y_min, y_max = X[:, 1].min() - eps, X[:, 1].max() + eps\n",
    "    xx = np.linspace(x_min, x_max, 1000)\n",
    "    yy = np.linspace(y_min, y_max, 1000)\n",
    "    X1, X2 = np.meshgrid(xx, yy)\n",
    "    X_grid = np.c_[X1.ravel(), X2.ravel()]\n",
    "    t = np.dot(X_grid, [b1, b2]) + b0\n",
    "\n",
    "    decision_values = 1/(1+np.exp(-t))\n",
    "    plt.contour(X1, X2, decision_values.reshape(X1.shape), levels=[0.5])\n",
    "\n",
    "    t1 = np.dot(X, [b1, b2]) + b0\n",
    "    t2 = 1/(1+np.exp(-t1))\n",
    "    return b1, b2, b0, lr.coef_, lr.intercept_, np.sum(y*np.log(t2) + (1-y)*np.log(1-t2))"
   ]
  },
  {
   "cell_type": "code",
   "execution_count": 100,
   "metadata": {},
   "outputs": [],
   "source": [
    "np.random.seed(22)"
   ]
  },
  {
   "cell_type": "code",
   "execution_count": 101,
   "metadata": {},
   "outputs": [
    {
     "data": {
      "text/plain": [
       "(-0.0919499198651913, -1.4633506528116793, 1.0817916791983249)"
      ]
     },
     "execution_count": 101,
     "metadata": {},
     "output_type": "execute_result"
    }
   ],
   "source": [
    "b1, b2, b0 = np.random.randn(3)\n",
    "b1, b2, b0"
   ]
  },
  {
   "cell_type": "code",
   "execution_count": 102,
   "metadata": {},
   "outputs": [
    {
     "name": "stdout",
     "output_type": "stream",
     "text": [
      "0.1764851063613812 -1.3119893378474126 1.1103838536474053 [[0.67289534 1.53136443]] [-11.0975882] -67.30401729264692\n"
     ]
    },
    {
     "data": {
      "image/png": "[encoded data removed]",
      "text/plain": [
       "<Figure size 432x288 with 1 Axes>"
      ]
     },
     "metadata": {
      "needs_background": "light"
     },
     "output_type": "display_data"
    }
   ],
   "source": [
    "for i in range(100):\n",
    "    b1, b2, b0, *tmp = step(b1, b2, b0, 1.0e-4)\n",
    "print(b1, b2, b0, *tmp)"
   ]
  },
  {
   "cell_type": "code",
   "execution_count": 103,
   "metadata": {},
   "outputs": [
    {
     "name": "stdout",
     "output_type": "stream",
     "text": [
      "0.1779562496649855 -1.3108736897239694 1.1105449425074492 [[0.67289534 1.53136443]] [-11.0975882] -67.20238365314633\n"
     ]
    },
    {
     "data": {
      "image/png": "[encoded data removed]",
      "text/plain": [
       "<Figure size 432x288 with 1 Axes>"
      ]
     },
     "metadata": {
      "needs_background": "light"
     },
     "output_type": "display_data"
    }
   ],
   "source": [
    "for i in range(100):\n",
    "    b1, b2, b0, *tmp = step(b1, b2, b0, 1.0e-6)\n",
    "print(b1, b2, b0, *tmp)"
   ]
  },
  {
   "cell_type": "code",
   "execution_count": 104,
   "metadata": {},
   "outputs": [
    {
     "name": "stdout",
     "output_type": "stream",
     "text": [
      "0.17795771252652232 -1.3108725768426364 1.1105451027404016 [[0.67289534 1.53136443]] [-11.0975882] -67.20228273083512\n"
     ]
    },
    {
     "data": {
      "image/png": "[encoded data removed]",
      "text/plain": [
       "<Figure size 432x288 with 1 Axes>"
      ]
     },
     "metadata": {
      "needs_background": "light"
     },
     "output_type": "display_data"
    }
   ],
   "source": [
    "for i in range(10):\n",
    "    b1, b2, b0, *tmp = step(b1, b2, b0, 1.0e-8)\n",
    "print(b1, b2, b0, *tmp)"
   ]
  },
  {
   "cell_type": "code",
   "execution_count": null,
   "metadata": {},
   "outputs": [],
   "source": []
  }
 ],
 "metadata": {
  "kernelspec": {
   "display_name": "Python 3",
   "language": "python",
   "name": "python3"
  },
  "language_info": {
   "codemirror_mode": {
    "name": "ipython",
    "version": 3
   },
   "file_extension": ".py",
   "mimetype": "text/x-python",
   "name": "python",
   "nbconvert_exporter": "python",
   "pygments_lexer": "ipython3",
   "version": "3.7.8"
  }
 },
 "nbformat": 4,
 "nbformat_minor": 4
}
