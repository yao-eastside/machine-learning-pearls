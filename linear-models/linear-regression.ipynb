{
 "cells": [
  {
   "cell_type": "code",
   "execution_count": 1,
   "metadata": {},
   "outputs": [],
   "source": [
    "import numpy as np"
   ]
  },
  {
   "cell_type": "code",
   "execution_count": 2,
   "metadata": {},
   "outputs": [],
   "source": [
    "x1 = np.arange(0, 100, 1.0)"
   ]
  },
  {
   "cell_type": "code",
   "execution_count": 3,
   "metadata": {},
   "outputs": [
    {
     "data": {
      "text/plain": [
       "array([ 0.,  1.,  2.,  3.,  4.,  5.,  6.,  7.,  8.,  9., 10., 11., 12.,\n",
       "       13., 14., 15., 16., 17., 18., 19., 20., 21., 22., 23., 24., 25.,\n",
       "       26., 27., 28., 29., 30., 31., 32., 33., 34., 35., 36., 37., 38.,\n",
       "       39., 40., 41., 42., 43., 44., 45., 46., 47., 48., 49., 50., 51.,\n",
       "       52., 53., 54., 55., 56., 57., 58., 59., 60., 61., 62., 63., 64.,\n",
       "       65., 66., 67., 68., 69., 70., 71., 72., 73., 74., 75., 76., 77.,\n",
       "       78., 79., 80., 81., 82., 83., 84., 85., 86., 87., 88., 89., 90.,\n",
       "       91., 92., 93., 94., 95., 96., 97., 98., 99.])"
      ]
     },
     "execution_count": 3,
     "metadata": {},
     "output_type": "execute_result"
    }
   ],
   "source": [
    "x1"
   ]
  },
  {
   "cell_type": "code",
   "execution_count": 4,
   "metadata": {},
   "outputs": [
    {
     "data": {
      "text/plain": [
       "array([ -5.95692874,  -1.22132531,  -6.76676217,  11.30692393,\n",
       "         7.31428796,  10.54915059,  -1.7563204 , -10.87345478,\n",
       "        -0.94677171,   4.93263636,  -5.4710654 ,   6.11092179,\n",
       "        -6.39649737,   1.86008372,  -0.88186264,   9.27973415,\n",
       "         5.57685649,  -6.77590117,   2.49846496,  10.35345491,\n",
       "        12.20603057,  -4.93506348, -11.60334551,  16.54059514,\n",
       "        -0.27740821,   1.4973719 ,   0.88683244,   6.84765335,\n",
       "       -35.20066604,  -3.69100607,  -6.36578692,  -0.19589204,\n",
       "        -1.54206502,  14.56678786,   7.12489439, -16.1168776 ,\n",
       "         9.86628605,  12.57181432,  24.70546723,   7.36989056,\n",
       "         9.08555228,  -1.47057361,  -7.27820476,  -0.04715029,\n",
       "        -8.41289893,  -7.89733024,  10.85778921, -11.73866799,\n",
       "       -19.41130304,  -1.11992424,  -0.39555419,   7.10361835,\n",
       "        -0.52216166,   5.07920515,   9.04341421,  -1.81751493,\n",
       "       -12.08563058,   7.24230257,   8.19438284,   5.91655129,\n",
       "       -18.2249697 , -14.40110479,  -4.54129193,  -5.95317766,\n",
       "        -4.51647198,   0.93669171, -16.75416352,   6.63563536,\n",
       "        -8.33427825,  -1.04863271,  -6.05252457,  -0.47401627,\n",
       "        -5.68633173,  15.30527516,   6.31048165,   1.12546537,\n",
       "        15.61239449,  -7.24424807,  -1.01289787,  -4.04662357,\n",
       "       -11.74209894,  21.00208395,  17.60214514,  -5.95690379,\n",
       "         2.02855355,  29.75081274,  10.15706835,  -1.38864339,\n",
       "         9.20799553,   5.60997532,   2.03308869,  -4.08428541,\n",
       "         2.91700876,  -1.01513064,   5.10765055, -17.41418648,\n",
       "       -17.51965993,  23.98836655,  -3.9491071 ,   8.50200537])"
      ]
     },
     "execution_count": 4,
     "metadata": {},
     "output_type": "execute_result"
    }
   ],
   "source": [
    "eps = np.random.randn(len(x1))/0.1\n",
    "eps"
   ]
  },
  {
   "cell_type": "code",
   "execution_count": 5,
   "metadata": {},
   "outputs": [],
   "source": [
    "a1 = 3.2\n",
    "a0 = 0.4"
   ]
  },
  {
   "cell_type": "code",
   "execution_count": 6,
   "metadata": {},
   "outputs": [
    {
     "data": {
      "text/plain": [
       "10683.093906457385"
      ]
     },
     "execution_count": 6,
     "metadata": {},
     "output_type": "execute_result"
    }
   ],
   "source": [
    "np.dot(eps, eps)"
   ]
  },
  {
   "cell_type": "code",
   "execution_count": 7,
   "metadata": {},
   "outputs": [],
   "source": [
    "y = a1 * x1 + a0 + eps"
   ]
  },
  {
   "cell_type": "code",
   "execution_count": 8,
   "metadata": {},
   "outputs": [
    {
     "data": {
      "text/plain": [
       "array([-5.55692874e+00,  2.37867469e+00,  3.32378325e-02,  2.13069239e+01,\n",
       "        2.05142880e+01,  2.69491506e+01,  1.78436796e+01,  1.19265452e+01,\n",
       "        2.50532283e+01,  3.41326364e+01,  2.69289346e+01,  4.17109218e+01,\n",
       "        3.24035026e+01,  4.38600837e+01,  4.43181374e+01,  5.76797341e+01,\n",
       "        5.71768565e+01,  4.80240988e+01,  6.04984650e+01,  7.15534549e+01,\n",
       "        7.66060306e+01,  6.26649365e+01,  5.91966545e+01,  9.05405951e+01,\n",
       "        7.69225918e+01,  8.18973719e+01,  8.44868324e+01,  9.36476534e+01,\n",
       "        5.47993340e+01,  8.95089939e+01,  9.00342131e+01,  9.94041080e+01,\n",
       "        1.01257935e+02,  1.20566788e+02,  1.16324894e+02,  9.62831224e+01,\n",
       "        1.25466286e+02,  1.31371814e+02,  1.46705467e+02,  1.32569891e+02,\n",
       "        1.37485552e+02,  1.30129426e+02,  1.27521795e+02,  1.37952850e+02,\n",
       "        1.32787101e+02,  1.36502670e+02,  1.58457789e+02,  1.39061332e+02,\n",
       "        1.34588697e+02,  1.56080076e+02,  1.60004446e+02,  1.70703618e+02,\n",
       "        1.66277838e+02,  1.75079205e+02,  1.82243414e+02,  1.74582485e+02,\n",
       "        1.67514369e+02,  1.90042303e+02,  1.94194383e+02,  1.95116551e+02,\n",
       "        1.74175030e+02,  1.81198895e+02,  1.94258708e+02,  1.96046822e+02,\n",
       "        2.00683528e+02,  2.09336692e+02,  1.94845836e+02,  2.21435635e+02,\n",
       "        2.09665722e+02,  2.20151367e+02,  2.18347475e+02,  2.27125984e+02,\n",
       "        2.25113668e+02,  2.49305275e+02,  2.43510482e+02,  2.41525465e+02,\n",
       "        2.59212394e+02,  2.39555752e+02,  2.48987102e+02,  2.49153376e+02,\n",
       "        2.44657901e+02,  2.80602084e+02,  2.80402145e+02,  2.60043096e+02,\n",
       "        2.71228554e+02,  3.02150813e+02,  2.85757068e+02,  2.77411357e+02,\n",
       "        2.91207996e+02,  2.90809975e+02,  2.90433089e+02,  2.87515715e+02,\n",
       "        2.97717009e+02,  2.96984869e+02,  3.06307651e+02,  2.86985814e+02,\n",
       "        2.90080340e+02,  3.34788367e+02,  3.10050893e+02,  3.25702005e+02])"
      ]
     },
     "execution_count": 8,
     "metadata": {},
     "output_type": "execute_result"
    }
   ],
   "source": [
    "y"
   ]
  },
  {
   "cell_type": "code",
   "execution_count": 9,
   "metadata": {},
   "outputs": [],
   "source": [
    "import matplotlib.pyplot as plt"
   ]
  },
  {
   "cell_type": "code",
   "execution_count": 27,
   "metadata": {},
   "outputs": [
    {
     "data": {
      "image/png": "[encoded data removed]",
      "text/plain": [
       "<Figure size 432x288 with 1 Axes>"
      ]
     },
     "metadata": {
      "needs_background": "light"
     },
     "output_type": "display_data"
    }
   ],
   "source": [
    "plt.scatter(x1, y)\n",
    "plt.plot(x1, a1*x1 + a0, color='red')\n",
    "plt.show()"
   ]
  },
  {
   "cell_type": "code",
   "execution_count": 11,
   "metadata": {},
   "outputs": [
    {
     "data": {
      "text/plain": [
       "(0.4, 3.2)"
      ]
     },
     "execution_count": 11,
     "metadata": {},
     "output_type": "execute_result"
    }
   ],
   "source": [
    "a0, a1"
   ]
  },
  {
   "cell_type": "markdown",
   "metadata": {},
   "source": [
    "# use scikit learn"
   ]
  },
  {
   "cell_type": "code",
   "execution_count": 12,
   "metadata": {},
   "outputs": [],
   "source": [
    "from sklearn.linear_model import LinearRegression"
   ]
  },
  {
   "cell_type": "code",
   "execution_count": 13,
   "metadata": {},
   "outputs": [],
   "source": [
    "lr = LinearRegression()"
   ]
  },
  {
   "cell_type": "code",
   "execution_count": 14,
   "metadata": {},
   "outputs": [
    {
     "data": {
      "text/plain": [
       "LinearRegression()"
      ]
     },
     "execution_count": 14,
     "metadata": {},
     "output_type": "execute_result"
    }
   ],
   "source": [
    "lr.fit(x1.reshape(len(x1), -1), y)"
   ]
  },
  {
   "cell_type": "code",
   "execution_count": 15,
   "metadata": {},
   "outputs": [
    {
     "data": {
      "text/plain": [
       "(array([3.21550855]), 0.33021689613025274)"
      ]
     },
     "execution_count": 15,
     "metadata": {},
     "output_type": "execute_result"
    }
   ],
   "source": [
    "lr.coef_, lr.intercept_"
   ]
  },
  {
   "cell_type": "code",
   "execution_count": 16,
   "metadata": {},
   "outputs": [
    {
     "data": {
      "text/plain": [
       "(3.2, 0.4)"
      ]
     },
     "execution_count": 16,
     "metadata": {},
     "output_type": "execute_result"
    }
   ],
   "source": [
    "a1, a0"
   ]
  },
  {
   "cell_type": "code",
   "execution_count": 28,
   "metadata": {},
   "outputs": [
    {
     "data": {
      "image/png": "[encoded data removed]",
      "text/plain": [
       "<Figure size 432x288 with 1 Axes>"
      ]
     },
     "metadata": {
      "needs_background": "light"
     },
     "output_type": "display_data"
    }
   ],
   "source": [
    "plt.scatter(x1, y)\n",
    "plt.plot(x1, a1*x1 + a0, color='red')\n",
    "plt.plot(x1, lr.coef_*x1 + lr.intercept_, color='green')\n",
    "plt.show()"
   ]
  },
  {
   "cell_type": "markdown",
   "metadata": {},
   "source": [
    "# recover without scikit learn"
   ]
  },
  {
   "cell_type": "code",
   "execution_count": 18,
   "metadata": {},
   "outputs": [
    {
     "data": {
      "text/plain": [
       "-0.8115459730547635"
      ]
     },
     "execution_count": 18,
     "metadata": {},
     "output_type": "execute_result"
    }
   ],
   "source": [
    "b0 = np.random.randn()\n",
    "b0"
   ]
  },
  {
   "cell_type": "code",
   "execution_count": 19,
   "metadata": {},
   "outputs": [
    {
     "data": {
      "text/plain": [
       "0.5112934126906591"
      ]
     },
     "execution_count": 19,
     "metadata": {},
     "output_type": "execute_result"
    }
   ],
   "source": [
    "b1 = np.random.randn()\n",
    "b1"
   ]
  },
  {
   "cell_type": "code",
   "execution_count": 20,
   "metadata": {},
   "outputs": [
    {
     "data": {
      "text/plain": [
       "array([ 4.74538277e+00, -2.67892725e+00,  1.77803020e-01, -2.05845897e+01,\n",
       "       -1.92806603e+01, -2.52042295e+01, -1.55874651e+01, -9.15903731e+00,\n",
       "       -2.17744270e+01, -3.03425416e+01, -2.26275464e+01, -3.68982402e+01,\n",
       "       -2.70795276e+01, -3.80248153e+01, -3.79715756e+01, -5.08218789e+01,\n",
       "       -4.98077079e+01, -4.01436568e+01, -5.21067295e+01, -6.26504260e+01,\n",
       "       -6.71917083e+01, -5.27393208e+01, -4.87597454e+01, -7.95923926e+01,\n",
       "       -6.54630959e+01, -6.99265826e+01, -7.20047497e+01, -8.06542772e+01,\n",
       "       -4.12946644e+01, -7.54930309e+01, -7.55069567e+01, -8.43655581e+01,\n",
       "       -8.57080917e+01, -1.04505651e+02, -9.97524643e+01, -7.91993989e+01,\n",
       "       -1.07871269e+02, -1.13265504e+02, -1.28087864e+02, -1.13440993e+02,\n",
       "       -1.17845362e+02, -1.09977942e+02, -1.06859018e+02, -1.16778779e+02,\n",
       "       -1.11101737e+02, -1.14306012e+02, -1.35749838e+02, -1.15842088e+02,\n",
       "       -1.10858159e+02, -1.31838245e+02, -1.35251321e+02, -1.45439200e+02,\n",
       "       -1.40502127e+02, -1.48792200e+02, -1.55445116e+02, -1.47272893e+02,\n",
       "       -1.39693484e+02, -1.61710124e+02, -1.65350911e+02, -1.65761786e+02,\n",
       "       -1.44308972e+02, -1.50821543e+02, -1.63370062e+02, -1.64646883e+02,\n",
       "       -1.68772296e+02, -1.76914166e+02, -1.61912017e+02, -1.87990523e+02,\n",
       "       -1.75709316e+02, -1.85683668e+02, -1.83368483e+02, -1.91635697e+02,\n",
       "       -1.89112089e+02, -2.12792402e+02, -2.06486315e+02, -2.03990005e+02,\n",
       "       -2.21165641e+02, -2.00997705e+02, -2.09917762e+02, -2.09572743e+02,\n",
       "       -2.04565974e+02, -2.39998863e+02, -2.39287631e+02, -2.18417289e+02,\n",
       "       -2.29091453e+02, -2.59502419e+02, -2.42597381e+02, -2.33740376e+02,\n",
       "       -2.47025721e+02, -2.46116408e+02, -2.45228228e+02, -2.41799560e+02,\n",
       "       -2.51489561e+02, -2.50246128e+02, -2.59057616e+02, -2.39224485e+02,\n",
       "       -2.41807718e+02, -2.86004451e+02, -2.60755684e+02, -2.75895503e+02])"
      ]
     },
     "execution_count": 20,
     "metadata": {},
     "output_type": "execute_result"
    }
   ],
   "source": [
    "t_b = b1 * x1 + b0 - y\n",
    "t_b"
   ]
  },
  {
   "cell_type": "code",
   "execution_count": 21,
   "metadata": {},
   "outputs": [
    {
     "data": {
      "text/plain": [
       "array([  5.95692874,   1.22132531,   6.76676217, -11.30692393,\n",
       "        -7.31428796, -10.54915059,   1.7563204 ,  10.87345478,\n",
       "         0.94677171,  -4.93263636,   5.4710654 ,  -6.11092179,\n",
       "         6.39649737,  -1.86008372,   0.88186264,  -9.27973415,\n",
       "        -5.57685649,   6.77590117,  -2.49846496, -10.35345491,\n",
       "       -12.20603057,   4.93506348,  11.60334551, -16.54059514,\n",
       "         0.27740821,  -1.4973719 ,  -0.88683244,  -6.84765335,\n",
       "        35.20066604,   3.69100607,   6.36578692,   0.19589204,\n",
       "         1.54206502, -14.56678786,  -7.12489439,  16.1168776 ,\n",
       "        -9.86628605, -12.57181432, -24.70546723,  -7.36989056,\n",
       "        -9.08555228,   1.47057361,   7.27820476,   0.04715029,\n",
       "         8.41289893,   7.89733024, -10.85778921,  11.73866799,\n",
       "        19.41130304,   1.11992424,   0.39555419,  -7.10361835,\n",
       "         0.52216166,  -5.07920515,  -9.04341421,   1.81751493,\n",
       "        12.08563058,  -7.24230257,  -8.19438284,  -5.91655129,\n",
       "        18.2249697 ,  14.40110479,   4.54129193,   5.95317766,\n",
       "         4.51647198,  -0.93669171,  16.75416352,  -6.63563536,\n",
       "         8.33427825,   1.04863271,   6.05252457,   0.47401627,\n",
       "         5.68633173, -15.30527516,  -6.31048165,  -1.12546537,\n",
       "       -15.61239449,   7.24424807,   1.01289787,   4.04662357,\n",
       "        11.74209894, -21.00208395, -17.60214514,   5.95690379,\n",
       "        -2.02855355, -29.75081274, -10.15706835,   1.38864339,\n",
       "        -9.20799553,  -5.60997532,  -2.03308869,   4.08428541,\n",
       "        -2.91700876,   1.01513064,  -5.10765055,  17.41418648,\n",
       "        17.51965993, -23.98836655,   3.9491071 ,  -8.50200537])"
      ]
     },
     "execution_count": 21,
     "metadata": {},
     "output_type": "execute_result"
    }
   ],
   "source": [
    "t_a = a1 * x1 + a0 - y\n",
    "t_a"
   ]
  },
  {
   "cell_type": "code",
   "execution_count": 22,
   "metadata": {},
   "outputs": [
    {
     "data": {
      "text/plain": [
       "10683.093906457387"
      ]
     },
     "execution_count": 22,
     "metadata": {},
     "output_type": "execute_result"
    }
   ],
   "source": [
    "loss_a = np.dot(t_a, t_a)\n",
    "loss_a"
   ]
  },
  {
   "cell_type": "code",
   "execution_count": 23,
   "metadata": {},
   "outputs": [
    {
     "data": {
      "text/plain": [
       "2442462.8208727073"
      ]
     },
     "execution_count": 23,
     "metadata": {},
     "output_type": "execute_result"
    }
   ],
   "source": [
    "loss_b = np.dot(t_b, t_b)\n",
    "loss_b"
   ]
  },
  {
   "cell_type": "code",
   "execution_count": 24,
   "metadata": {},
   "outputs": [
    {
     "data": {
      "text/plain": [
       "[<matplotlib.lines.Line2D at 0x7fc6e87fab50>]"
      ]
     },
     "execution_count": 24,
     "metadata": {},
     "output_type": "execute_result"
    },
    {
     "data": {
      "image/png": "[encoded data removed]",
      "text/plain": [
       "<Figure size 432x288 with 1 Axes>"
      ]
     },
     "metadata": {
      "needs_background": "light"
     },
     "output_type": "display_data"
    }
   ],
   "source": [
    "plt.scatter(x1, y)\n",
    "plt.plot(x1, a1*x1 + a0, color='red')\n",
    "plt.plot(x1, lr.coef_*x1 + lr.intercept_, color='green')\n",
    "plt.plot(x1, b1*x1 + b0, color='orange')"
   ]
  },
  {
   "cell_type": "code",
   "execution_count": null,
   "metadata": {},
   "outputs": [],
   "source": []
  },
  {
   "cell_type": "code",
   "execution_count": 29,
   "metadata": {},
   "outputs": [],
   "source": [
    "def step(b1, b0, alpha):\n",
    "    b1 += alpha * np.sum((y - b1*x1 - b0)*x1)/len(x1)\n",
    "    b0 += alpha * np.sum((y - b1*x1 - b0)*1)/len(x1)\n",
    "\n",
    "    plt.scatter(x1, y)\n",
    "    plt.plot(x1, a1*x1 + a0, color='red')\n",
    "    plt.plot(x1, lr.coef_*x1 + lr.intercept_, color='green')\n",
    "    plt.plot(x1, b1*x1 + b0, color='orange')\n",
    "\n",
    "    t_b = b1 * x1 + b0 - y\n",
    "    loss_b = np.dot(t_b, t_b)\n",
    "    return b1, b0, a1, a0, loss_b"
   ]
  },
  {
   "cell_type": "code",
   "execution_count": 35,
   "metadata": {},
   "outputs": [
    {
     "name": "stdout",
     "output_type": "stream",
     "text": [
      "2.8615558647986084 -0.776774724807057 3.2 0.4 55752.44417801448\n"
     ]
    },
    {
     "data": {
      "image/png": "[encoded data removed]",
      "text/plain": [
       "<Figure size 432x288 with 1 Axes>"
      ]
     },
     "metadata": {
      "needs_background": "light"
     },
     "output_type": "display_data"
    }
   ],
   "source": [
    "for i in range(10):\n",
    "    b1, b0, *tmp = step(b1, b0, 1.0e-5)\n",
    "print(b1, b0, *tmp)"
   ]
  },
  {
   "cell_type": "code",
   "execution_count": null,
   "metadata": {},
   "outputs": [],
   "source": [
    "assert False"
   ]
  },
  {
   "cell_type": "code",
   "execution_count": 42,
   "metadata": {},
   "outputs": [
    {
     "name": "stdout",
     "output_type": "stream",
     "text": [
      "3.195061681019671 -0.771567482747934 3.2 0.4 11096.043085972422\n"
     ]
    },
    {
     "data": {
      "image/png": "[encoded data removed]",
      "text/plain": [
       "<Figure size 432x288 with 1 Axes>"
      ]
     },
     "metadata": {
      "needs_background": "light"
     },
     "output_type": "display_data"
    }
   ],
   "source": [
    "for i in range(100):\n",
    "    b1, b0, *tmp = step(b1, b0, 1.0e-6)\n",
    "print(b1, b0, *tmp)"
   ]
  },
  {
   "cell_type": "code",
   "execution_count": null,
   "metadata": {},
   "outputs": [],
   "source": []
  },
  {
   "cell_type": "code",
   "execution_count": null,
   "metadata": {},
   "outputs": [],
   "source": []
  }
 ],
 "metadata": {
  "kernelspec": {
   "display_name": "Python 3",
   "language": "python",
   "name": "python3"
  },
  "language_info": {
   "codemirror_mode": {
    "name": "ipython",
    "version": 3
   },
   "file_extension": ".py",
   "mimetype": "text/x-python",
   "name": "python",
   "nbconvert_exporter": "python",
   "pygments_lexer": "ipython3",
   "version": "3.7.8"
  }
 },
 "nbformat": 4,
 "nbformat_minor": 4
}
