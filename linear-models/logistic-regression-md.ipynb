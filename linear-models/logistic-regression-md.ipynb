{
 "cells": [
  {
   "cell_type": "markdown",
   "metadata": {},
   "source": [
    "# logistic regression (multi-dimension)"
   ]
  },
  {
   "cell_type": "code",
   "execution_count": 1442,
   "metadata": {},
   "outputs": [],
   "source": [
    "from sklearn.linear_model import LogisticRegression\n",
    "from sklearn.datasets import make_blobs\n",
    "import matplotlib.pyplot as plt\n",
    "import numpy as np"
   ]
  },
  {
   "cell_type": "code",
   "execution_count": 1443,
   "metadata": {},
   "outputs": [],
   "source": [
    "def make_forge():\n",
    "    # a carefully hand-designed dataset lol\n",
    "    X, y = make_blobs(centers=2, random_state=6, n_samples=500)\n",
    "    y[np.array([7, 27])] = 0\n",
    "    mask = np.ones(len(X), dtype=np.bool)\n",
    "    mask[np.array([0, 1, 5, 26])] = 0\n",
    "    X, y = X[mask], y[mask]\n",
    "    return X, y"
   ]
  },
  {
   "cell_type": "code",
   "execution_count": 1444,
   "metadata": {},
   "outputs": [],
   "source": [
    "X, y = make_forge()"
   ]
  },
  {
   "cell_type": "code",
   "execution_count": 1445,
   "metadata": {},
   "outputs": [
    {
     "data": {
      "text/plain": [
       "((496, 2), (496,))"
      ]
     },
     "execution_count": 1445,
     "metadata": {},
     "output_type": "execute_result"
    }
   ],
   "source": [
    "X.shape, y.shape"
   ]
  },
  {
   "cell_type": "code",
   "execution_count": 1446,
   "metadata": {},
   "outputs": [
    {
     "data": {
      "text/plain": [
       "<matplotlib.collections.PathCollection at 0x7fe783863f10>"
      ]
     },
     "execution_count": 1446,
     "metadata": {},
     "output_type": "execute_result"
    },
    {
     "data": {
      "image/png": "[encoded data removed]",
      "text/plain": [
       "<Figure size 432x288 with 1 Axes>"
      ]
     },
     "metadata": {
      "needs_background": "light"
     },
     "output_type": "display_data"
    }
   ],
   "source": [
    "plt.scatter(X[y==0][:, 0], X[y==0][:, 1], color='red')\n",
    "plt.scatter(X[y==1][:, 0], X[y==1][:, 1], color='green')"
   ]
  },
  {
   "cell_type": "markdown",
   "metadata": {},
   "source": [
    "# scikit-learng"
   ]
  },
  {
   "cell_type": "code",
   "execution_count": 1447,
   "metadata": {},
   "outputs": [],
   "source": [
    "lr = LogisticRegression()"
   ]
  },
  {
   "cell_type": "code",
   "execution_count": 1448,
   "metadata": {},
   "outputs": [
    {
     "data": {
      "text/plain": [
       "LogisticRegression()"
      ]
     },
     "execution_count": 1448,
     "metadata": {},
     "output_type": "execute_result"
    }
   ],
   "source": [
    "lr.fit(X, y)"
   ]
  },
  {
   "cell_type": "code",
   "execution_count": 1449,
   "metadata": {},
   "outputs": [
    {
     "data": {
      "text/plain": [
       "(array([-0.81867172, -1.72416237]), array([-5.27544325]))"
      ]
     },
     "execution_count": 1449,
     "metadata": {},
     "output_type": "execute_result"
    }
   ],
   "source": [
    "lr.coef_[0], lr.intercept_"
   ]
  },
  {
   "cell_type": "code",
   "execution_count": 1450,
   "metadata": {},
   "outputs": [
    {
     "data": {
      "text/plain": [
       "<matplotlib.contour.QuadContourSet at 0x7fe814166e50>"
      ]
     },
     "execution_count": 1450,
     "metadata": {},
     "output_type": "execute_result"
    },
    {
     "data": {
      "image/png": "[encoded data removed]",
      "text/plain": [
       "<Figure size 432x288 with 1 Axes>"
      ]
     },
     "metadata": {
      "needs_background": "light"
     },
     "output_type": "display_data"
    }
   ],
   "source": [
    "plt.scatter(X[y==0][:, 0], X[y==0][:, 1], color='red')\n",
    "plt.scatter(X[y==1][:, 0], X[y==1][:, 1], color='green')\n",
    "\n",
    "eps = X.std() / 2.\n",
    "x_min, x_max = X[:, 0].min() - eps, X[:, 0].max() + eps\n",
    "y_min, y_max = X[:, 1].min() - eps, X[:, 1].max() + eps\n",
    "xx = np.linspace(x_min, x_max, 1000)\n",
    "yy = np.linspace(y_min, y_max, 1000)\n",
    "X1, X2 = np.meshgrid(xx, yy)\n",
    "X_grid = np.c_[X1.ravel(), X2.ravel()]\n",
    "decision_values = lr.predict_proba(X_grid)[:, 1]\n",
    "plt.contour(X1, X2, decision_values.reshape(X1.shape), levels=[0.5])"
   ]
  },
  {
   "cell_type": "code",
   "execution_count": 1451,
   "metadata": {},
   "outputs": [
    {
     "data": {
      "text/plain": [
       "array([1.00000000e+00, 1.00000000e+00, 1.00000000e+00, ...,\n",
       "       3.43906091e-10, 3.39887882e-10, 3.35916622e-10])"
      ]
     },
     "execution_count": 1451,
     "metadata": {},
     "output_type": "execute_result"
    }
   ],
   "source": [
    "decision_values = lr.predict_proba(X_grid)[:, 1]\n",
    "decision_values"
   ]
  },
  {
   "cell_type": "code",
   "execution_count": 1452,
   "metadata": {},
   "outputs": [
    {
     "data": {
      "text/plain": [
       "array([[ -0.25290902, -15.5045724 ],\n",
       "       [ -0.23855305, -15.5045724 ],\n",
       "       [ -0.22419708, -15.5045724 ],\n",
       "       ...,\n",
       "       [ 14.05999092,   2.90268037],\n",
       "       [ 14.07434688,   2.90268037],\n",
       "       [ 14.08870285,   2.90268037]])"
      ]
     },
     "execution_count": 1452,
     "metadata": {},
     "output_type": "execute_result"
    }
   ],
   "source": [
    "X_grid"
   ]
  },
  {
   "cell_type": "code",
   "execution_count": 1453,
   "metadata": {},
   "outputs": [
    {
     "data": {
      "text/plain": [
       "array([-10.25391913,  -7.25951904,  -4.6465376 ,  -4.42112657,\n",
       "         7.42341411,  -6.92296886,  -6.67261129, -10.13312451,\n",
       "         4.77411243,  -9.55676278])"
      ]
     },
     "execution_count": 1453,
     "metadata": {},
     "output_type": "execute_result"
    }
   ],
   "source": [
    "t = np.dot(X, lr.coef_[0]) + lr.intercept_\n",
    "t[:10]"
   ]
  },
  {
   "cell_type": "code",
   "execution_count": 1454,
   "metadata": {},
   "outputs": [
    {
     "data": {
      "text/plain": [
       "array([3.52179609e-05, 7.02951798e-04, 9.50358077e-03, 1.18779020e-02,\n",
       "       9.99403249e-01, 9.83932484e-04, 1.26349248e-03, 3.97395258e-05,\n",
       "       9.91625154e-01, 7.07163680e-05])"
      ]
     },
     "execution_count": 1454,
     "metadata": {},
     "output_type": "execute_result"
    }
   ],
   "source": [
    "t2 = 1/(1+np.exp(-t))\n",
    "t2[:10]"
   ]
  },
  {
   "cell_type": "code",
   "execution_count": 1455,
   "metadata": {},
   "outputs": [
    {
     "data": {
      "text/plain": [
       "(496, 496)"
      ]
     },
     "execution_count": 1455,
     "metadata": {},
     "output_type": "execute_result"
    }
   ],
   "source": [
    "len(t2), len(y)"
   ]
  },
  {
   "cell_type": "code",
   "execution_count": 1456,
   "metadata": {},
   "outputs": [
    {
     "data": {
      "text/plain": [
       "<function ndarray.reshape>"
      ]
     },
     "execution_count": 1456,
     "metadata": {},
     "output_type": "execute_result"
    }
   ],
   "source": [
    "t2.reshape"
   ]
  },
  {
   "cell_type": "code",
   "execution_count": 1461,
   "metadata": {},
   "outputs": [
    {
     "data": {
      "text/plain": [
       "(496,)"
      ]
     },
     "execution_count": 1461,
     "metadata": {},
     "output_type": "execute_result"
    }
   ],
   "source": [
    "t2.shape"
   ]
  },
  {
   "cell_type": "code",
   "execution_count": 1459,
   "metadata": {},
   "outputs": [
    {
     "data": {
      "text/plain": [
       "array([3.52179609e-05, 7.02951798e-04, 9.50358077e-03, 1.18779020e-02,\n",
       "       9.99403249e-01, 9.83932484e-04, 1.26349248e-03, 3.97395258e-05,\n",
       "       9.91625154e-01, 7.07163680e-05])"
      ]
     },
     "execution_count": 1459,
     "metadata": {},
     "output_type": "execute_result"
    }
   ],
   "source": [
    "t2[:10]"
   ]
  },
  {
   "cell_type": "code",
   "execution_count": 1460,
   "metadata": {},
   "outputs": [
    {
     "data": {
      "text/plain": [
       "(496,)"
      ]
     },
     "execution_count": 1460,
     "metadata": {},
     "output_type": "execute_result"
    }
   ],
   "source": [
    "(1 - t2).shape"
   ]
  },
  {
   "cell_type": "code",
   "execution_count": 1462,
   "metadata": {},
   "outputs": [
    {
     "data": {
      "text/plain": [
       "array([9.99964782e-01, 9.99297048e-01, 9.90496419e-01, 9.88122098e-01,\n",
       "       5.96750751e-04, 9.99016068e-01, 9.98736508e-01, 9.99960260e-01,\n",
       "       8.37484638e-03, 9.99929284e-01])"
      ]
     },
     "execution_count": 1462,
     "metadata": {},
     "output_type": "execute_result"
    }
   ],
   "source": [
    "(1-t2)[:10]"
   ]
  },
  {
   "cell_type": "code",
   "execution_count": 1464,
   "metadata": {},
   "outputs": [],
   "source": [
    "x1 = t2"
   ]
  },
  {
   "cell_type": "code",
   "execution_count": 1465,
   "metadata": {},
   "outputs": [],
   "source": [
    "x2 = 1 - t2"
   ]
  },
  {
   "cell_type": "code",
   "execution_count": 1466,
   "metadata": {},
   "outputs": [
    {
     "data": {
      "text/plain": [
       "array([1., 1., 1., 1., 1., 1., 1., 1., 1., 1.])"
      ]
     },
     "execution_count": 1466,
     "metadata": {},
     "output_type": "execute_result"
    }
   ],
   "source": [
    "(x1 + x2)[:10]"
   ]
  },
  {
   "cell_type": "code",
   "execution_count": 1468,
   "metadata": {},
   "outputs": [
    {
     "data": {
      "text/plain": [
       "(496,)"
      ]
     },
     "execution_count": 1468,
     "metadata": {},
     "output_type": "execute_result"
    }
   ],
   "source": [
    "y.shape"
   ]
  },
  {
   "cell_type": "code",
   "execution_count": 1473,
   "metadata": {},
   "outputs": [
    {
     "data": {
      "text/plain": [
       "((496,),\n",
       " array([-3.52185810e-05, -7.03198985e-04, -9.54902796e-03, -1.19490079e-02,\n",
       "        -7.42401103e+00, -9.84416863e-04, -1.26429136e-03, -3.97403154e-05,\n",
       "        -8.41011245e-03, -7.07188685e-05]))"
      ]
     },
     "execution_count": 1473,
     "metadata": {},
     "output_type": "execute_result"
    }
   ],
   "source": [
    "loss = y*np.log(t2) + (1-y)*np.log(1-t2)\n",
    "loss.shape, loss[:10]"
   ]
  },
  {
   "cell_type": "code",
   "execution_count": 1476,
   "metadata": {},
   "outputs": [
    {
     "data": {
      "text/plain": [
       "24.810192796579866"
      ]
     },
     "execution_count": 1476,
     "metadata": {},
     "output_type": "execute_result"
    }
   ],
   "source": [
    "-np.sum(loss)"
   ]
  },
  {
   "cell_type": "markdown",
   "metadata": {},
   "source": [
    "# recover without scikit learn"
   ]
  },
  {
   "cell_type": "code",
   "execution_count": 1305,
   "metadata": {},
   "outputs": [
    {
     "data": {
      "text/plain": [
       "(496, 2)"
      ]
     },
     "execution_count": 1305,
     "metadata": {},
     "output_type": "execute_result"
    }
   ],
   "source": [
    "X.shape"
   ]
  },
  {
   "cell_type": "code",
   "execution_count": 1306,
   "metadata": {},
   "outputs": [],
   "source": [
    "X_b = np.c_[np.ones((X.shape[0], 1)), X]"
   ]
  },
  {
   "cell_type": "code",
   "execution_count": 1307,
   "metadata": {},
   "outputs": [
    {
     "data": {
      "text/plain": [
       "(496, 3)"
      ]
     },
     "execution_count": 1307,
     "metadata": {},
     "output_type": "execute_result"
    }
   ],
   "source": [
    "X_b.shape"
   ]
  },
  {
   "cell_type": "code",
   "execution_count": 1308,
   "metadata": {},
   "outputs": [],
   "source": [
    "def step(theta_b, alpha):\n",
    "    print('theta_b', theta_b)\n",
    "    t = X_b.dot(theta_b.T)\n",
    "    p = 1/(1+np.exp(-t))\n",
    "    d_theta = (y.reshape(-1,1) - p) * X_b / X_b.shape[0]\n",
    "    \n",
    "    theta_b += alpha * np.sum(d_theta, axis=0).reshape(1, 3)\n",
    "\n",
    "    plt.scatter(X[y==0][:, 0], X[y==0][:, 1], color='red')\n",
    "    plt.scatter(X[y==1][:, 0], X[y==1][:, 1], color='green')\n",
    "\n",
    "    eps = X.std() / 2.\n",
    "    x_min, x_max = X[:, 0].min() - eps, X[:, 0].max() + eps\n",
    "    y_min, y_max = X[:, 1].min() - eps, X[:, 1].max() + eps\n",
    "    xx = np.linspace(x_min, x_max, 1000)\n",
    "    yy = np.linspace(y_min, y_max, 1000)\n",
    "    X1, X2 = np.meshgrid(xx, yy)\n",
    "    X_grid = np.c_[X1.ravel(), X2.ravel()]\n",
    "    \n",
    "    X_grid_b = np.c_[np.ones((1000000, 1)), X_grid]\n",
    "    grid_t = X_grid_b.dot(theta_b.T)\n",
    "    decision_values = 1-1/(1+np.exp(-grid_t))\n",
    "    plt.contour(X1, X2, decision_values.reshape(X1.shape), levels=[0.5])\n",
    "\n",
    "    # t = X_b.dot(theta_b.T)\n",
    "    # p = 1/(1+np.exp(-t))\n",
    "    return theta_b, [lr.intercept_, lr.coef_[0]], -(np.sum(y*np.log(p) + (1-y)*np.log(1-p)))/X.shape[0]"
   ]
  },
  {
   "cell_type": "code",
   "execution_count": 1309,
   "metadata": {},
   "outputs": [
    {
     "data": {
      "text/plain": [
       "(496, 2)"
      ]
     },
     "execution_count": 1309,
     "metadata": {},
     "output_type": "execute_result"
    }
   ],
   "source": [
    "X.shape"
   ]
  },
  {
   "cell_type": "code",
   "execution_count": null,
   "metadata": {},
   "outputs": [],
   "source": []
  },
  {
   "cell_type": "code",
   "execution_count": 1364,
   "metadata": {},
   "outputs": [],
   "source": [
    "np.random.seed(3)"
   ]
  },
  {
   "cell_type": "code",
   "execution_count": 1365,
   "metadata": {},
   "outputs": [
    {
     "data": {
      "text/plain": [
       "1.7886284734303186"
      ]
     },
     "execution_count": 1365,
     "metadata": {},
     "output_type": "execute_result"
    }
   ],
   "source": [
    "b0 = np.random.randn()\n",
    "b0"
   ]
  },
  {
   "cell_type": "code",
   "execution_count": 1366,
   "metadata": {},
   "outputs": [
    {
     "data": {
      "text/plain": [
       "1.7886284734303186"
      ]
     },
     "execution_count": 1366,
     "metadata": {},
     "output_type": "execute_result"
    }
   ],
   "source": [
    "# b0 = lr.intercept_[0]\n",
    "b0"
   ]
  },
  {
   "cell_type": "code",
   "execution_count": 1367,
   "metadata": {},
   "outputs": [
    {
     "data": {
      "text/plain": [
       "0.43650985051198943"
      ]
     },
     "execution_count": 1367,
     "metadata": {},
     "output_type": "execute_result"
    }
   ],
   "source": [
    "b1 = np.random.randn()\n",
    "b1"
   ]
  },
  {
   "cell_type": "code",
   "execution_count": 1368,
   "metadata": {},
   "outputs": [
    {
     "data": {
      "text/plain": [
       "0.43650985051198943"
      ]
     },
     "execution_count": 1368,
     "metadata": {},
     "output_type": "execute_result"
    }
   ],
   "source": [
    "# b1 = lr.coef_[0][0]\n",
    "b1"
   ]
  },
  {
   "cell_type": "code",
   "execution_count": 1369,
   "metadata": {},
   "outputs": [
    {
     "data": {
      "text/plain": [
       "0.09649746807200862"
      ]
     },
     "execution_count": 1369,
     "metadata": {},
     "output_type": "execute_result"
    }
   ],
   "source": [
    "b2 = np.random.randn()\n",
    "b2"
   ]
  },
  {
   "cell_type": "code",
   "execution_count": 1370,
   "metadata": {},
   "outputs": [
    {
     "data": {
      "text/plain": [
       "0.09649746807200862"
      ]
     },
     "execution_count": 1370,
     "metadata": {},
     "output_type": "execute_result"
    }
   ],
   "source": [
    "# b2 = lr.coef_[0][1]\n",
    "b2"
   ]
  },
  {
   "cell_type": "code",
   "execution_count": 1371,
   "metadata": {},
   "outputs": [],
   "source": [
    "theta_b = np.array([b0, b1, b2]).reshape(1, 3)"
   ]
  },
  {
   "cell_type": "code",
   "execution_count": 1372,
   "metadata": {},
   "outputs": [
    {
     "data": {
      "text/plain": [
       "array([[1.78862847, 0.43650985, 0.09649747]])"
      ]
     },
     "execution_count": 1372,
     "metadata": {},
     "output_type": "execute_result"
    }
   ],
   "source": [
    "theta_b"
   ]
  },
  {
   "cell_type": "code",
   "execution_count": 1373,
   "metadata": {},
   "outputs": [
    {
     "data": {
      "text/plain": [
       "((1, 3), (496,))"
      ]
     },
     "execution_count": 1373,
     "metadata": {},
     "output_type": "execute_result"
    }
   ],
   "source": [
    "theta_b.shape, y.shape"
   ]
  },
  {
   "cell_type": "code",
   "execution_count": 1374,
   "metadata": {},
   "outputs": [
    {
     "data": {
      "text/plain": [
       "array([[4.97467325],\n",
       "       [5.33218832],\n",
       "       [4.40603182],\n",
       "       [4.77281757],\n",
       "       [4.54528507],\n",
       "       [4.64577434],\n",
       "       [5.03891684],\n",
       "       [5.70416899],\n",
       "       [3.07105088],\n",
       "       [4.91379032]])"
      ]
     },
     "execution_count": 1374,
     "metadata": {},
     "output_type": "execute_result"
    }
   ],
   "source": [
    "res_b = X_b.dot(theta_b.T) - y.reshape(-1,1)\n",
    "res_b[:10]"
   ]
  },
  {
   "cell_type": "code",
   "execution_count": 1375,
   "metadata": {},
   "outputs": [
    {
     "data": {
      "text/plain": [
       "array([[7863.30872239]])"
      ]
     },
     "execution_count": 1375,
     "metadata": {},
     "output_type": "execute_result"
    }
   ],
   "source": [
    "loss_b = res_b.T.dot(res_b)\n",
    "loss_b"
   ]
  },
  {
   "cell_type": "code",
   "execution_count": 1376,
   "metadata": {},
   "outputs": [
    {
     "data": {
      "text/plain": [
       "[array([-5.27544325]), array([-0.81867172, -1.72416237])]"
      ]
     },
     "execution_count": 1376,
     "metadata": {},
     "output_type": "execute_result"
    }
   ],
   "source": [
    "theta_a"
   ]
  },
  {
   "cell_type": "code",
   "execution_count": 1377,
   "metadata": {},
   "outputs": [
    {
     "data": {
      "text/plain": [
       "(1000000, 2)"
      ]
     },
     "execution_count": 1377,
     "metadata": {},
     "output_type": "execute_result"
    }
   ],
   "source": [
    "X_grid.shape"
   ]
  },
  {
   "cell_type": "code",
   "execution_count": 1378,
   "metadata": {},
   "outputs": [
    {
     "data": {
      "text/plain": [
       "array([[ -0.25290902, -15.5045724 ],\n",
       "       [ -0.23855305, -15.5045724 ],\n",
       "       [ -0.22419708, -15.5045724 ],\n",
       "       [ -0.20984111, -15.5045724 ],\n",
       "       [ -0.19548514, -15.5045724 ],\n",
       "       [ -0.18112918, -15.5045724 ],\n",
       "       [ -0.16677321, -15.5045724 ],\n",
       "       [ -0.15241724, -15.5045724 ],\n",
       "       [ -0.13806127, -15.5045724 ],\n",
       "       [ -0.12370531, -15.5045724 ]])"
      ]
     },
     "execution_count": 1378,
     "metadata": {},
     "output_type": "execute_result"
    }
   ],
   "source": [
    "X_grid[:10]"
   ]
  },
  {
   "cell_type": "code",
   "execution_count": 1429,
   "metadata": {},
   "outputs": [
    {
     "name": "stdout",
     "output_type": "stream",
     "text": [
      "theta_b [[ 1.73611543 -0.0081153   0.16443258]]\n",
      "[array([-5.27544325]), array([-0.81867172, -1.72416237])]\n",
      "384.3069426568597\n"
     ]
    },
    {
     "data": {
      "image/png": "[encoded data removed]",
      "text/plain": [
       "<Figure size 432x288 with 1 Axes>"
      ]
     },
     "metadata": {
      "needs_background": "light"
     },
     "output_type": "display_data"
    }
   ],
   "source": [
    "theta_b, theta_a, loss = step(theta_b, 1.0e-3)\n",
    "# print(theta_b)\n",
    "print(theta_a)\n",
    "print(loss)"
   ]
  },
  {
   "cell_type": "code",
   "execution_count": 1430,
   "metadata": {},
   "outputs": [
    {
     "data": {
      "text/plain": [
       "array([[ 1.73596351, -0.00965449,  0.16361369]])"
      ]
     },
     "execution_count": 1430,
     "metadata": {},
     "output_type": "execute_result"
    }
   ],
   "source": [
    "theta_b"
   ]
  },
  {
   "cell_type": "code",
   "execution_count": 1431,
   "metadata": {},
   "outputs": [
    {
     "data": {
      "text/plain": [
       "[array([-5.27544325]), array([-0.81867172, -1.72416237])]"
      ]
     },
     "execution_count": 1431,
     "metadata": {},
     "output_type": "execute_result"
    }
   ],
   "source": [
    "theta_a"
   ]
  },
  {
   "cell_type": "code",
   "execution_count": 1432,
   "metadata": {},
   "outputs": [
    {
     "name": "stdout",
     "output_type": "stream",
     "text": [
      "theta_b [[ 1.73596351 -0.00965449  0.16361369]]\n",
      "theta_b [[ 1.73594844 -0.00980749  0.16353123]]\n",
      "theta_b [[ 1.73593337 -0.0099604   0.16344873]]\n",
      "theta_b [[ 1.73591832 -0.01011322  0.16336616]]\n",
      "theta_b [[ 1.73590328 -0.01026595  0.16328355]]\n",
      "theta_b [[ 1.73588826 -0.01041858  0.16320087]]\n",
      "theta_b [[ 1.73587324 -0.01057113  0.16311815]]\n",
      "theta_b [[ 1.73585824 -0.01072359  0.16303537]]\n",
      "theta_b [[ 1.73584324 -0.01087596  0.16295253]]\n",
      "theta_b [[ 1.73582826 -0.01102824  0.16286964]]\n",
      "theta_b [[ 1.73581329 -0.01118043  0.1627867 ]]\n",
      "theta_b [[ 1.73579834 -0.01133254  0.16270371]]\n",
      "theta_b [[ 1.73578339 -0.01148455  0.16262066]]\n",
      "theta_b [[ 1.73576845 -0.01163647  0.16253755]]\n",
      "theta_b [[ 1.73575353 -0.0117883   0.1624544 ]]\n",
      "theta_b [[ 1.73573862 -0.01194005  0.16237119]]\n",
      "theta_b [[ 1.73572372 -0.01209171  0.16228793]]\n",
      "theta_b [[ 1.73570883 -0.01224327  0.16220461]]\n",
      "theta_b [[ 1.73569395 -0.01239475  0.16212124]]\n",
      "theta_b [[ 1.73567908 -0.01254614  0.16203782]]\n",
      "[[ 1.73566422 -0.01269745  0.16195435]] [array([-5.27544325]), array([-0.81867172, -1.72416237])] 382.47771401542843\n"
     ]
    },
    {
     "data": {
      "image/png": "[encoded data removed]",
      "text/plain": [
       "<Figure size 432x288 with 1 Axes>"
      ]
     },
     "metadata": {
      "needs_background": "light"
     },
     "output_type": "display_data"
    }
   ],
   "source": [
    "for i in range(20):\n",
    "    theta_b, theta_a, loss = step(theta_b, 1.0e-4)\n",
    "print(theta_b, theta_a, loss)"
   ]
  },
  {
   "cell_type": "code",
   "execution_count": 1433,
   "metadata": {},
   "outputs": [
    {
     "name": "stdout",
     "output_type": "stream",
     "text": [
      "theta_b [[ 1.73566422 -0.01269745  0.16195435]]\n",
      "theta_b [[ 1.73566274 -0.01271257  0.161946  ]]\n",
      "theta_b [[ 1.73566126 -0.01272769  0.16193764]]\n",
      "theta_b [[ 1.73565977 -0.01274281  0.16192929]]\n",
      "theta_b [[ 1.73565829 -0.01275793  0.16192094]]\n",
      "theta_b [[ 1.7356568  -0.01277304  0.16191258]]\n",
      "theta_b [[ 1.73565532 -0.01278816  0.16190423]]\n",
      "theta_b [[ 1.73565384 -0.01280328  0.16189587]]\n",
      "theta_b [[ 1.73565235 -0.01281839  0.16188752]]\n",
      "theta_b [[ 1.73565087 -0.01283351  0.16187916]]\n",
      "[[ 1.73564938 -0.01284862  0.1618708 ]] [array([-5.27544325]), array([-0.81867172, -1.72416237])] 382.36144519056126\n"
     ]
    },
    {
     "data": {
      "image/png": "[encoded data removed]",
      "text/plain": [
       "<Figure size 432x288 with 1 Axes>"
      ]
     },
     "metadata": {
      "needs_background": "light"
     },
     "output_type": "display_data"
    }
   ],
   "source": [
    "for i in range(10):\n",
    "    theta_b, theta_a, loss = step(theta_b, 1.0e-5)\n",
    "print(theta_b, theta_a, loss)"
   ]
  },
  {
   "cell_type": "code",
   "execution_count": 1434,
   "metadata": {},
   "outputs": [
    {
     "name": "stdout",
     "output_type": "stream",
     "text": [
      "theta_b [[ 1.73564938 -0.01284862  0.1618708 ]]\n",
      "theta_b [[ 1.73564924 -0.01285013  0.16186997]]\n",
      "theta_b [[ 1.73564909 -0.01285164  0.16186913]]\n",
      "theta_b [[ 1.73564894 -0.01285316  0.16186829]]\n",
      "theta_b [[ 1.73564879 -0.01285467  0.16186746]]\n",
      "theta_b [[ 1.73564864 -0.01285618  0.16186662]]\n",
      "theta_b [[ 1.73564849 -0.01285769  0.16186579]]\n",
      "theta_b [[ 1.73564835 -0.0128592   0.16186495]]\n",
      "theta_b [[ 1.7356482  -0.01286071  0.16186412]]\n",
      "theta_b [[ 1.73564805 -0.01286222  0.16186328]]\n",
      "[[ 1.7356479  -0.01286373  0.16186244]] [array([-5.27544325]), array([-0.81867172, -1.72416237])] 382.34984358210517\n"
     ]
    },
    {
     "data": {
      "image/png": "[encoded data removed]",
      "text/plain": [
       "<Figure size 432x288 with 1 Axes>"
      ]
     },
     "metadata": {
      "needs_background": "light"
     },
     "output_type": "display_data"
    }
   ],
   "source": [
    "for i in range(10):\n",
    "    theta_b, theta_a, loss = step(theta_b, 1.0e-6)\n",
    "print(theta_b, theta_a, loss)"
   ]
  },
  {
   "cell_type": "code",
   "execution_count": 1437,
   "metadata": {},
   "outputs": [
    {
     "data": {
      "text/plain": [
       "array([[ 1.53535253],\n",
       "       [ 1.13365446],\n",
       "       [ 1.06745312],\n",
       "       [ 0.95916455],\n",
       "       [-0.25277003],\n",
       "       [ 1.25536472],\n",
       "       [ 1.1383609 ],\n",
       "       [ 1.35493569],\n",
       "       [ 0.138899  ],\n",
       "       [ 1.47492536]])"
      ]
     },
     "execution_count": 1437,
     "metadata": {},
     "output_type": "execute_result"
    }
   ],
   "source": [
    "t = X_b.dot(theta_b.T)\n",
    "t[:10]"
   ]
  },
  {
   "cell_type": "code",
   "execution_count": 1438,
   "metadata": {},
   "outputs": [
    {
     "data": {
      "text/plain": [
       "array([[0.8227881 ],\n",
       "       [0.75651269],\n",
       "       [0.74411227],\n",
       "       [0.7229545 ],\n",
       "       [0.43714182],\n",
       "       [0.77822714],\n",
       "       [0.75737857],\n",
       "       [0.79493538],\n",
       "       [0.53466903],\n",
       "       [0.81380486]])"
      ]
     },
     "execution_count": 1438,
     "metadata": {},
     "output_type": "execute_result"
    }
   ],
   "source": [
    "t2 = 1/(1+np.exp(-t))\n",
    "t2[:10]"
   ]
  },
  {
   "cell_type": "code",
   "execution_count": 1439,
   "metadata": {},
   "outputs": [
    {
     "data": {
      "text/plain": [
       "(496, 496)"
      ]
     },
     "execution_count": 1439,
     "metadata": {},
     "output_type": "execute_result"
    }
   ],
   "source": [
    "len(t2), len(y)"
   ]
  },
  {
   "cell_type": "code",
   "execution_count": 1440,
   "metadata": {},
   "outputs": [
    {
     "data": {
      "text/plain": [
       "382.34923309748194"
      ]
     },
     "execution_count": 1440,
     "metadata": {},
     "output_type": "execute_result"
    }
   ],
   "source": [
    "-(np.sum(y*np.log(t2) + (1-y)*np.log(1-t2)))/X.shape[0]"
   ]
  },
  {
   "cell_type": "code",
   "execution_count": 1441,
   "metadata": {},
   "outputs": [
    {
     "data": {
      "text/plain": [
       "(496, 1)"
      ]
     },
     "execution_count": 1441,
     "metadata": {},
     "output_type": "execute_result"
    }
   ],
   "source": [
    "t2.shape"
   ]
  },
  {
   "cell_type": "code",
   "execution_count": null,
   "metadata": {},
   "outputs": [],
   "source": []
  }
 ],
 "metadata": {
  "kernelspec": {
   "display_name": "Python 3",
   "language": "python",
   "name": "python3"
  },
  "language_info": {
   "codemirror_mode": {
    "name": "ipython",
    "version": 3
   },
   "file_extension": ".py",
   "mimetype": "text/x-python",
   "name": "python",
   "nbconvert_exporter": "python",
   "pygments_lexer": "ipython3",
   "version": "3.7.8"
  }
 },
 "nbformat": 4,
 "nbformat_minor": 4
}
